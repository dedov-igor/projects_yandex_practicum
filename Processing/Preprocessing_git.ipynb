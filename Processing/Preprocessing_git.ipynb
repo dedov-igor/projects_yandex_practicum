{
 "cells": [
  {
   "cell_type": "markdown",
   "id": "c13fa11f-61d9-4b29-bcf4-d2d7d796ae4c",
   "metadata": {},
   "source": [
    "# Исследование надёжности заёмщиков\n",
    "\n",
    "Заказчик — кредитный отдел банка. Нужно разобраться, влияет ли семейное положение и количество детей клиента на факт погашения кредита в срок. Входные данные от банка — статистика о платёжеспособности клиентов.\n",
    "\n",
    "Результаты исследования будут учтены при построении модели **кредитного скоринга** — специальной системы, которая оценивает способность потенциального заёмщика вернуть кредит банку.\n",
    "\n",
    "***Описание данных***\n",
    "\n",
    "* children — количество детей в семье\n",
    "* days_employed — общий трудовой стаж в днях\n",
    "* dob_years — возраст клиента в годах\n",
    "* education — уровень образования клиента\n",
    "* education_id — идентификатор уровня образования\n",
    "* family_status — семейное положение\n",
    "* family_status_id — идентификатор семейного положения\n",
    "* gender — пол клиента\n",
    "* income_type — тип занятости\n",
    "* debt — имел ли задолженность по возврату кредитов\n",
    "* total_income — ежемесячный доход\n",
    "* purpose — цель получения кредита"
   ]
  },
  {
   "cell_type": "markdown",
   "id": "9b386e4b-7392-485b-b0a1-d55d79b813a7",
   "metadata": {},
   "source": [
    "# Общая информация о данных"
   ]
  },
  {
   "cell_type": "code",
   "execution_count": 1,
   "id": "d712f10e-7126-41dc-8ee3-a3cda5954803",
   "metadata": {},
   "outputs": [],
   "source": [
    "import pandas as pd\n",
    "import matplotlib.pyplot as plt"
   ]
  },
  {
   "cell_type": "code",
   "execution_count": 2,
   "id": "bf5c1f58-3724-4f05-a9a6-0d4da9352816",
   "metadata": {},
   "outputs": [],
   "source": [
    "data = pd.read_csv('datasets/data.csv')"
   ]
  },
  {
   "cell_type": "code",
   "execution_count": 3,
   "id": "f4b5bb1d-876e-40bd-a5da-c7b122fe85d8",
   "metadata": {},
   "outputs": [],
   "source": [
    "data = pd.read_csv('datasets/data.csv')"
   ]
  },
  {
   "cell_type": "code",
   "execution_count": 4,
   "id": "82f263b3-71de-43bd-a608-d7b60a3349cc",
   "metadata": {},
   "outputs": [
    {
     "data": {
      "text/html": [
       "<div>\n",
       "<style scoped>\n",
       "    .dataframe tbody tr th:only-of-type {\n",
       "        vertical-align: middle;\n",
       "    }\n",
       "\n",
       "    .dataframe tbody tr th {\n",
       "        vertical-align: top;\n",
       "    }\n",
       "\n",
       "    .dataframe thead th {\n",
       "        text-align: right;\n",
       "    }\n",
       "</style>\n",
       "<table border=\"1\" class=\"dataframe\">\n",
       "  <thead>\n",
       "    <tr style=\"text-align: right;\">\n",
       "      <th></th>\n",
       "      <th>children</th>\n",
       "      <th>days_employed</th>\n",
       "      <th>dob_years</th>\n",
       "      <th>education</th>\n",
       "      <th>education_id</th>\n",
       "      <th>family_status</th>\n",
       "      <th>family_status_id</th>\n",
       "      <th>gender</th>\n",
       "      <th>income_type</th>\n",
       "      <th>debt</th>\n",
       "      <th>total_income</th>\n",
       "      <th>purpose</th>\n",
       "    </tr>\n",
       "  </thead>\n",
       "  <tbody>\n",
       "    <tr>\n",
       "      <th>0</th>\n",
       "      <td>1</td>\n",
       "      <td>-8437.673028</td>\n",
       "      <td>42</td>\n",
       "      <td>высшее</td>\n",
       "      <td>0</td>\n",
       "      <td>женат / замужем</td>\n",
       "      <td>0</td>\n",
       "      <td>F</td>\n",
       "      <td>сотрудник</td>\n",
       "      <td>0</td>\n",
       "      <td>253875.639453</td>\n",
       "      <td>покупка жилья</td>\n",
       "    </tr>\n",
       "    <tr>\n",
       "      <th>1</th>\n",
       "      <td>1</td>\n",
       "      <td>-4024.803754</td>\n",
       "      <td>36</td>\n",
       "      <td>среднее</td>\n",
       "      <td>1</td>\n",
       "      <td>женат / замужем</td>\n",
       "      <td>0</td>\n",
       "      <td>F</td>\n",
       "      <td>сотрудник</td>\n",
       "      <td>0</td>\n",
       "      <td>112080.014102</td>\n",
       "      <td>приобретение автомобиля</td>\n",
       "    </tr>\n",
       "    <tr>\n",
       "      <th>2</th>\n",
       "      <td>0</td>\n",
       "      <td>-5623.422610</td>\n",
       "      <td>33</td>\n",
       "      <td>Среднее</td>\n",
       "      <td>1</td>\n",
       "      <td>женат / замужем</td>\n",
       "      <td>0</td>\n",
       "      <td>M</td>\n",
       "      <td>сотрудник</td>\n",
       "      <td>0</td>\n",
       "      <td>145885.952297</td>\n",
       "      <td>покупка жилья</td>\n",
       "    </tr>\n",
       "    <tr>\n",
       "      <th>3</th>\n",
       "      <td>3</td>\n",
       "      <td>-4124.747207</td>\n",
       "      <td>32</td>\n",
       "      <td>среднее</td>\n",
       "      <td>1</td>\n",
       "      <td>женат / замужем</td>\n",
       "      <td>0</td>\n",
       "      <td>M</td>\n",
       "      <td>сотрудник</td>\n",
       "      <td>0</td>\n",
       "      <td>267628.550329</td>\n",
       "      <td>дополнительное образование</td>\n",
       "    </tr>\n",
       "    <tr>\n",
       "      <th>4</th>\n",
       "      <td>0</td>\n",
       "      <td>340266.072047</td>\n",
       "      <td>53</td>\n",
       "      <td>среднее</td>\n",
       "      <td>1</td>\n",
       "      <td>гражданский брак</td>\n",
       "      <td>1</td>\n",
       "      <td>F</td>\n",
       "      <td>пенсионер</td>\n",
       "      <td>0</td>\n",
       "      <td>158616.077870</td>\n",
       "      <td>сыграть свадьбу</td>\n",
       "    </tr>\n",
       "  </tbody>\n",
       "</table>\n",
       "</div>"
      ],
      "text/plain": [
       "   children  days_employed  dob_years education  education_id  \\\n",
       "0         1   -8437.673028         42    высшее             0   \n",
       "1         1   -4024.803754         36   среднее             1   \n",
       "2         0   -5623.422610         33   Среднее             1   \n",
       "3         3   -4124.747207         32   среднее             1   \n",
       "4         0  340266.072047         53   среднее             1   \n",
       "\n",
       "      family_status  family_status_id gender income_type  debt   total_income  \\\n",
       "0   женат / замужем                 0      F   сотрудник     0  253875.639453   \n",
       "1   женат / замужем                 0      F   сотрудник     0  112080.014102   \n",
       "2   женат / замужем                 0      M   сотрудник     0  145885.952297   \n",
       "3   женат / замужем                 0      M   сотрудник     0  267628.550329   \n",
       "4  гражданский брак                 1      F   пенсионер     0  158616.077870   \n",
       "\n",
       "                      purpose  \n",
       "0               покупка жилья  \n",
       "1     приобретение автомобиля  \n",
       "2               покупка жилья  \n",
       "3  дополнительное образование  \n",
       "4             сыграть свадьбу  "
      ]
     },
     "execution_count": 4,
     "metadata": {},
     "output_type": "execute_result"
    }
   ],
   "source": [
    "# Первые пять строк табицы данных\n",
    "data.head()"
   ]
  },
  {
   "cell_type": "code",
   "execution_count": 5,
   "id": "9f69809f-a59d-4a0b-86de-66e0f2089864",
   "metadata": {},
   "outputs": [
    {
     "name": "stdout",
     "output_type": "stream",
     "text": [
      "<class 'pandas.core.frame.DataFrame'>\n",
      "RangeIndex: 21525 entries, 0 to 21524\n",
      "Data columns (total 12 columns):\n",
      " #   Column            Non-Null Count  Dtype  \n",
      "---  ------            --------------  -----  \n",
      " 0   children          21525 non-null  int64  \n",
      " 1   days_employed     19351 non-null  float64\n",
      " 2   dob_years         21525 non-null  int64  \n",
      " 3   education         21525 non-null  object \n",
      " 4   education_id      21525 non-null  int64  \n",
      " 5   family_status     21525 non-null  object \n",
      " 6   family_status_id  21525 non-null  int64  \n",
      " 7   gender            21525 non-null  object \n",
      " 8   income_type       21525 non-null  object \n",
      " 9   debt              21525 non-null  int64  \n",
      " 10  total_income      19351 non-null  float64\n",
      " 11  purpose           21525 non-null  object \n",
      "dtypes: float64(2), int64(5), object(5)\n",
      "memory usage: 2.0+ MB\n"
     ]
    }
   ],
   "source": [
    "# Общая информация о датасете\n",
    "data.info()"
   ]
  },
  {
   "cell_type": "code",
   "execution_count": 6,
   "id": "e5ac6516-9c24-4401-bc85-bd3d134ce48e",
   "metadata": {},
   "outputs": [
    {
     "data": {
      "text/html": [
       "<div>\n",
       "<style scoped>\n",
       "    .dataframe tbody tr th:only-of-type {\n",
       "        vertical-align: middle;\n",
       "    }\n",
       "\n",
       "    .dataframe tbody tr th {\n",
       "        vertical-align: top;\n",
       "    }\n",
       "\n",
       "    .dataframe thead th {\n",
       "        text-align: right;\n",
       "    }\n",
       "</style>\n",
       "<table border=\"1\" class=\"dataframe\">\n",
       "  <thead>\n",
       "    <tr style=\"text-align: right;\">\n",
       "      <th></th>\n",
       "      <th>children</th>\n",
       "      <th>days_employed</th>\n",
       "      <th>dob_years</th>\n",
       "      <th>education_id</th>\n",
       "      <th>family_status_id</th>\n",
       "      <th>debt</th>\n",
       "      <th>total_income</th>\n",
       "    </tr>\n",
       "  </thead>\n",
       "  <tbody>\n",
       "    <tr>\n",
       "      <th>count</th>\n",
       "      <td>21525.000000</td>\n",
       "      <td>19351.000000</td>\n",
       "      <td>21525.000000</td>\n",
       "      <td>21525.000000</td>\n",
       "      <td>21525.000000</td>\n",
       "      <td>21525.000000</td>\n",
       "      <td>1.935100e+04</td>\n",
       "    </tr>\n",
       "    <tr>\n",
       "      <th>mean</th>\n",
       "      <td>0.538908</td>\n",
       "      <td>63046.497661</td>\n",
       "      <td>43.293380</td>\n",
       "      <td>0.817236</td>\n",
       "      <td>0.972544</td>\n",
       "      <td>0.080883</td>\n",
       "      <td>1.674223e+05</td>\n",
       "    </tr>\n",
       "    <tr>\n",
       "      <th>std</th>\n",
       "      <td>1.381587</td>\n",
       "      <td>140827.311974</td>\n",
       "      <td>12.574584</td>\n",
       "      <td>0.548138</td>\n",
       "      <td>1.420324</td>\n",
       "      <td>0.272661</td>\n",
       "      <td>1.029716e+05</td>\n",
       "    </tr>\n",
       "    <tr>\n",
       "      <th>min</th>\n",
       "      <td>-1.000000</td>\n",
       "      <td>-18388.949901</td>\n",
       "      <td>0.000000</td>\n",
       "      <td>0.000000</td>\n",
       "      <td>0.000000</td>\n",
       "      <td>0.000000</td>\n",
       "      <td>2.066726e+04</td>\n",
       "    </tr>\n",
       "    <tr>\n",
       "      <th>25%</th>\n",
       "      <td>0.000000</td>\n",
       "      <td>-2747.423625</td>\n",
       "      <td>33.000000</td>\n",
       "      <td>1.000000</td>\n",
       "      <td>0.000000</td>\n",
       "      <td>0.000000</td>\n",
       "      <td>1.030532e+05</td>\n",
       "    </tr>\n",
       "    <tr>\n",
       "      <th>50%</th>\n",
       "      <td>0.000000</td>\n",
       "      <td>-1203.369529</td>\n",
       "      <td>42.000000</td>\n",
       "      <td>1.000000</td>\n",
       "      <td>0.000000</td>\n",
       "      <td>0.000000</td>\n",
       "      <td>1.450179e+05</td>\n",
       "    </tr>\n",
       "    <tr>\n",
       "      <th>75%</th>\n",
       "      <td>1.000000</td>\n",
       "      <td>-291.095954</td>\n",
       "      <td>53.000000</td>\n",
       "      <td>1.000000</td>\n",
       "      <td>1.000000</td>\n",
       "      <td>0.000000</td>\n",
       "      <td>2.034351e+05</td>\n",
       "    </tr>\n",
       "    <tr>\n",
       "      <th>max</th>\n",
       "      <td>20.000000</td>\n",
       "      <td>401755.400475</td>\n",
       "      <td>75.000000</td>\n",
       "      <td>4.000000</td>\n",
       "      <td>4.000000</td>\n",
       "      <td>1.000000</td>\n",
       "      <td>2.265604e+06</td>\n",
       "    </tr>\n",
       "  </tbody>\n",
       "</table>\n",
       "</div>"
      ],
      "text/plain": [
       "           children  days_employed     dob_years  education_id  \\\n",
       "count  21525.000000   19351.000000  21525.000000  21525.000000   \n",
       "mean       0.538908   63046.497661     43.293380      0.817236   \n",
       "std        1.381587  140827.311974     12.574584      0.548138   \n",
       "min       -1.000000  -18388.949901      0.000000      0.000000   \n",
       "25%        0.000000   -2747.423625     33.000000      1.000000   \n",
       "50%        0.000000   -1203.369529     42.000000      1.000000   \n",
       "75%        1.000000    -291.095954     53.000000      1.000000   \n",
       "max       20.000000  401755.400475     75.000000      4.000000   \n",
       "\n",
       "       family_status_id          debt  total_income  \n",
       "count      21525.000000  21525.000000  1.935100e+04  \n",
       "mean           0.972544      0.080883  1.674223e+05  \n",
       "std            1.420324      0.272661  1.029716e+05  \n",
       "min            0.000000      0.000000  2.066726e+04  \n",
       "25%            0.000000      0.000000  1.030532e+05  \n",
       "50%            0.000000      0.000000  1.450179e+05  \n",
       "75%            1.000000      0.000000  2.034351e+05  \n",
       "max            4.000000      1.000000  2.265604e+06  "
      ]
     },
     "execution_count": 6,
     "metadata": {},
     "output_type": "execute_result"
    }
   ],
   "source": [
    "# Общая статистика по столбцам с числовым типом данных\n",
    "data.describe()"
   ]
  },
  {
   "cell_type": "code",
   "execution_count": 7,
   "id": "5b39222c-96fa-4579-bfef-3c7da9c97d16",
   "metadata": {},
   "outputs": [
    {
     "data": {
      "text/html": [
       "<div>\n",
       "<style scoped>\n",
       "    .dataframe tbody tr th:only-of-type {\n",
       "        vertical-align: middle;\n",
       "    }\n",
       "\n",
       "    .dataframe tbody tr th {\n",
       "        vertical-align: top;\n",
       "    }\n",
       "\n",
       "    .dataframe thead th {\n",
       "        text-align: right;\n",
       "    }\n",
       "</style>\n",
       "<table border=\"1\" class=\"dataframe\">\n",
       "  <thead>\n",
       "    <tr style=\"text-align: right;\">\n",
       "      <th></th>\n",
       "      <th>education</th>\n",
       "      <th>family_status</th>\n",
       "      <th>gender</th>\n",
       "      <th>income_type</th>\n",
       "      <th>purpose</th>\n",
       "    </tr>\n",
       "  </thead>\n",
       "  <tbody>\n",
       "    <tr>\n",
       "      <th>count</th>\n",
       "      <td>21525</td>\n",
       "      <td>21525</td>\n",
       "      <td>21525</td>\n",
       "      <td>21525</td>\n",
       "      <td>21525</td>\n",
       "    </tr>\n",
       "    <tr>\n",
       "      <th>unique</th>\n",
       "      <td>15</td>\n",
       "      <td>5</td>\n",
       "      <td>3</td>\n",
       "      <td>8</td>\n",
       "      <td>38</td>\n",
       "    </tr>\n",
       "    <tr>\n",
       "      <th>top</th>\n",
       "      <td>среднее</td>\n",
       "      <td>женат / замужем</td>\n",
       "      <td>F</td>\n",
       "      <td>сотрудник</td>\n",
       "      <td>свадьба</td>\n",
       "    </tr>\n",
       "    <tr>\n",
       "      <th>freq</th>\n",
       "      <td>13750</td>\n",
       "      <td>12380</td>\n",
       "      <td>14236</td>\n",
       "      <td>11119</td>\n",
       "      <td>797</td>\n",
       "    </tr>\n",
       "  </tbody>\n",
       "</table>\n",
       "</div>"
      ],
      "text/plain": [
       "       education    family_status gender income_type  purpose\n",
       "count      21525            21525  21525       21525    21525\n",
       "unique        15                5      3           8       38\n",
       "top      среднее  женат / замужем      F   сотрудник  свадьба\n",
       "freq       13750            12380  14236       11119      797"
      ]
     },
     "execution_count": 7,
     "metadata": {},
     "output_type": "execute_result"
    }
   ],
   "source": [
    "# Общая статистика по столбцам со строковым типом данных\n",
    "data.describe(include='object')"
   ]
  },
  {
   "cell_type": "code",
   "execution_count": 8,
   "id": "8ae9f028-a85c-4d2b-8179-d3c077e35628",
   "metadata": {},
   "outputs": [
    {
     "name": "stdout",
     "output_type": "stream",
     "text": [
      "education \n",
      " ['высшее' 'среднее' 'Среднее' 'СРЕДНЕЕ' 'ВЫСШЕЕ' 'неоконченное высшее'\n",
      " 'начальное' 'Высшее' 'НЕОКОНЧЕННОЕ ВЫСШЕЕ' 'Неоконченное высшее'\n",
      " 'НАЧАЛЬНОЕ' 'Начальное' 'Ученая степень' 'УЧЕНАЯ СТЕПЕНЬ'\n",
      " 'ученая степень'] \n",
      "\n",
      "family_status \n",
      " ['женат / замужем' 'гражданский брак' 'вдовец / вдова' 'в разводе'\n",
      " 'Не женат / не замужем'] \n",
      "\n",
      "gender \n",
      " ['F' 'M' 'XNA'] \n",
      "\n",
      "income_type \n",
      " ['сотрудник' 'пенсионер' 'компаньон' 'госслужащий' 'безработный'\n",
      " 'предприниматель' 'студент' 'в декрете'] \n",
      "\n",
      "purpose \n",
      " ['покупка жилья' 'приобретение автомобиля' 'дополнительное образование'\n",
      " 'сыграть свадьбу' 'операции с жильем' 'образование'\n",
      " 'на проведение свадьбы' 'покупка жилья для семьи' 'покупка недвижимости'\n",
      " 'покупка коммерческой недвижимости' 'покупка жилой недвижимости'\n",
      " 'строительство собственной недвижимости' 'недвижимость'\n",
      " 'строительство недвижимости' 'на покупку подержанного автомобиля'\n",
      " 'на покупку своего автомобиля' 'операции с коммерческой недвижимостью'\n",
      " 'строительство жилой недвижимости' 'жилье'\n",
      " 'операции со своей недвижимостью' 'автомобили' 'заняться образованием'\n",
      " 'сделка с подержанным автомобилем' 'получение образования' 'автомобиль'\n",
      " 'свадьба' 'получение дополнительного образования' 'покупка своего жилья'\n",
      " 'операции с недвижимостью' 'получение высшего образования'\n",
      " 'свой автомобиль' 'сделка с автомобилем' 'профильное образование'\n",
      " 'высшее образование' 'покупка жилья для сдачи' 'на покупку автомобиля'\n",
      " 'ремонт жилью' 'заняться высшим образованием'] \n",
      "\n"
     ]
    }
   ],
   "source": [
    "# Уникальные значения по столбцам со строковым типом данных\n",
    "object_columns = list(data.select_dtypes(include='object').columns)\n",
    "for _ in object_columns:\n",
    "    print(_, '\\n', data[_].unique(),'\\n')"
   ]
  },
  {
   "cell_type": "markdown",
   "id": "24e65ee5-dd7e-4e6f-bd58-581de50aeb48",
   "metadata": {},
   "source": [
    "## Вывод"
   ]
  },
  {
   "cell_type": "markdown",
   "id": "2707da38-1cc5-40f2-ad45-3ed31b8eb30f",
   "metadata": {},
   "source": [
    "Таблица данных содержит 12 столбцов и более 21 тыс. строк. Предварительно можно утверждать, что, данных достаточно для проверки гипотез. В каждой строке таблицы содержится информация о конкретном заемщике.  \n",
    "В столбцах `days_employed` и `total_income` имеются пропуски.  \n",
    "Из статистики по столбцам можно выделить следующие особенности набора данных:  \n",
    "* Медианное количество детей в семье составляет 0, т.е. заемщики в основной массе люди без детей. Минимальное значение количества детей в семье: -1, т.е. отрицательное число, что свидетельствует о наличии некорректных значений в данном столбце. Максимальное количество детей в семье: 20, также требует внимания, т.к. значение слишком большое.\n",
    "* Столбец с общим трудовым стажем в основном состоит из отрицательных значений, что наталкивает на мысль об ошибочности знака \"минус\" в данных. Однако имеются и положительные значения, причем максимальное значение столбца составляет 401 755 дней, что примерно равно 1 101 году. Таким образом, столбец содержит различные виды ошибок.\n",
    "* Возраст заемщиков содержит нулевые значения.\n",
    "* Месячный доход заемщиков изменяется от 20 до 226 тыс. у.е., среднее значение составляет - 167 тыс.у.е., медианное значение - 145 тыс. у.е. В столбце отсутствуют нулевые значения, однако имеются пропуски.\n",
    "* Столбец с уровнем образования имеет 15 категорий, столбец с целями кредита насчитывает 38 категорий -  в данных столбцах имеется большое количество дублей. \n",
    "* Столбец с полом имеет 3 уникальных значения, из-за неявного пропуска вида 'XNA'."
   ]
  },
  {
   "cell_type": "markdown",
   "id": "89ac4db6-a55f-43f4-bedb-7e7777ccb722",
   "metadata": {},
   "source": [
    "# Предобработка данных\n",
    "## Удаление пропусков и обработка аномальных значение"
   ]
  },
  {
   "cell_type": "code",
   "execution_count": 9,
   "id": "e93c8e5f-a17b-4710-aab7-605db10b3a6f",
   "metadata": {},
   "outputs": [
    {
     "data": {
      "text/plain": [
       "children               0\n",
       "days_employed       2174\n",
       "dob_years              0\n",
       "education              0\n",
       "education_id           0\n",
       "family_status          0\n",
       "family_status_id       0\n",
       "gender                 0\n",
       "income_type            0\n",
       "debt                   0\n",
       "total_income        2174\n",
       "purpose                0\n",
       "dtype: int64"
      ]
     },
     "execution_count": 9,
     "metadata": {},
     "output_type": "execute_result"
    }
   ],
   "source": [
    "# Количество пропущенных значений для каждого столбца\n",
    "data.isna().sum()"
   ]
  },
  {
   "cell_type": "markdown",
   "id": "01e69718-2805-49dd-b717-4bd4fcd4b03a",
   "metadata": {},
   "source": [
    "Количество пропусков в столбцах с трудовым стажем и ежемесячным доходом совпадают. Можно предположить, что пропуски взаимосвязаны друг с другом, т.е. пропуск в столбце трудового стажа соответствует пропуску в столбце с ежемесячным доходом. Выясним, так ли это:"
   ]
  },
  {
   "cell_type": "code",
   "execution_count": 10,
   "id": "03cd31ae-57aa-49f8-9a39-d6e6a460901a",
   "metadata": {},
   "outputs": [
    {
     "data": {
      "text/plain": [
       "True    21525\n",
       "dtype: int64"
      ]
     },
     "execution_count": 10,
     "metadata": {},
     "output_type": "execute_result"
    }
   ],
   "source": [
    "(data['days_employed'].isna() == data['total_income'].isna()).value_counts()"
   ]
  },
  {
   "cell_type": "markdown",
   "id": "1b1eb045-2fc5-4c23-92e8-069efb4d03ab",
   "metadata": {},
   "source": [
    "### ['income_type']"
   ]
  },
  {
   "cell_type": "markdown",
   "id": "2517913f-0303-4566-a016-daa83a8b48ba",
   "metadata": {},
   "source": [
    "Предположим, что пропуски в графах 'days_employed'(общий трудовой стаж) и 'total_income'(ежемесячный доход) в количестве 2174 строк относятся к клиентам, которые никогда не работали. Для проверки гипотезы посчитаем количество уникальных наименований в колонке \"income_type\""
   ]
  },
  {
   "cell_type": "code",
   "execution_count": 11,
   "id": "9c9dacf0-3f82-4728-b5c5-89a3c70d98ae",
   "metadata": {},
   "outputs": [
    {
     "data": {
      "text/plain": [
       "сотрудник          11119\n",
       "компаньон           5085\n",
       "пенсионер           3856\n",
       "госслужащий         1459\n",
       "безработный            2\n",
       "предприниматель        2\n",
       "студент                1\n",
       "в декрете              1\n",
       "Name: income_type, dtype: int64"
      ]
     },
     "execution_count": 11,
     "metadata": {},
     "output_type": "execute_result"
    }
   ],
   "source": [
    "data['income_type'].value_counts()"
   ]
  },
  {
   "cell_type": "markdown",
   "id": "8797d7a9-a7ba-403b-a30e-cb107e847ba2",
   "metadata": {},
   "source": [
    "В даных только 2 безработных, 1 студент и 1 человек в декрете. Гипотеза не подтвердилась, следовательно пропуски обусловлены иными причинами. Поскольку пропущенные данные носят количественный характер, заполним их характерными значениями с помощью метода median(). Данный метод лучше подходит для расчета среднего дохода.\n",
    "\n",
    "При этом, будем использовать группировку уровня дохода в зависимости от типа занятости (income type)\n",
    "\n",
    "Для начала проверим, действительно ли зависит средний доход от типа занятости."
   ]
  },
  {
   "cell_type": "code",
   "execution_count": 12,
   "id": "a19a6171-94f9-4e4f-9109-0be0bda6fce4",
   "metadata": {},
   "outputs": [
    {
     "data": {
      "text/plain": [
       "income_type\n",
       "безработный        131339.751676\n",
       "в декрете           53829.130729\n",
       "госслужащий        150447.935283\n",
       "компаньон          172357.950966\n",
       "пенсионер          118514.486412\n",
       "предприниматель    499163.144947\n",
       "сотрудник          142594.396847\n",
       "студент             98201.625314\n",
       "Name: total_income, dtype: float64"
      ]
     },
     "execution_count": 12,
     "metadata": {},
     "output_type": "execute_result"
    }
   ],
   "source": [
    "data.groupby('income_type')['total_income'].median()"
   ]
  },
  {
   "cell_type": "markdown",
   "id": "6e115597-20cb-497f-b7a1-4f565bdbd7cf",
   "metadata": {},
   "source": [
    "Гипотеза подтвердилась, доход завист от графы с типом занятости. Заменим пропуски в зависимости от типа занятости медианными значениями."
   ]
  },
  {
   "cell_type": "code",
   "execution_count": 13,
   "id": "f669e596-242e-479f-ae9f-7582922b9ac4",
   "metadata": {},
   "outputs": [],
   "source": [
    "incom_median = data.groupby('income_type')['total_income'].median()\n",
    "for i in range(len(incom_median)):\n",
    "    data.loc[(data['income_type'] == incom_median.index[i]) & (data['total_income'].isnull()) , 'total_income'] = incom_median[i]"
   ]
  },
  {
   "cell_type": "markdown",
   "id": "6bbed6df-545a-4cb5-a4a1-dd5b9f314302",
   "metadata": {},
   "source": [
    "На этапе изучения общей информации мы определили, что столбец days_employed содержит отрицательные значения трудового стажа, а также нереалистичные значения, превышающие 1000 лет. Проанализируем столбец подробнее"
   ]
  },
  {
   "cell_type": "code",
   "execution_count": 14,
   "id": "a739cfc2-6715-4151-b4b0-b9b1cf43ddef",
   "metadata": {},
   "outputs": [
    {
     "data": {
      "text/plain": [
       "-1203.369528770489"
      ]
     },
     "execution_count": 14,
     "metadata": {},
     "output_type": "execute_result"
    }
   ],
   "source": [
    "data.days_employed.median()"
   ]
  },
  {
   "cell_type": "code",
   "execution_count": 15,
   "id": "5246c057-979d-432d-b3f7-48b7b4a00201",
   "metadata": {},
   "outputs": [
    {
     "name": "stdout",
     "output_type": "stream",
     "text": [
      "Процент отрицательных значений трудового стажа 74%\n",
      "Процент незаполненных значений трудового стажа 10%\n"
     ]
    }
   ],
   "source": [
    "print(f'Процент отрицательных значений трудового стажа {data[data.days_employed < 0][\"days_employed\"].count() / data.shape[0]:.0%}')\n",
    "print(f'Процент незаполненных значений трудового стажа {data[data.days_employed.isna()].shape[0] / data.shape[0]:.0%}')"
   ]
  },
  {
   "cell_type": "code",
   "execution_count": 16,
   "id": "3a82dc62-a79d-483e-a4a8-49b92b350053",
   "metadata": {},
   "outputs": [
    {
     "name": "stdout",
     "output_type": "stream",
     "text": [
      "Среднее значение трудового стажа в годах среди положительных значений 1000 лет\n"
     ]
    }
   ],
   "source": [
    "# Статистика по положительным значениям\n",
    "print(f'Среднее значение трудового стажа в годах среди положительных значений {int(data[data.days_employed > 0][\"days_employed\"].mean() / 365)} лет')"
   ]
  },
  {
   "cell_type": "markdown",
   "id": "4c300472-09a8-45d5-a604-3c5e8772a4f5",
   "metadata": {},
   "source": [
    "Таким образом, большая часть столбца days_employed заполнена отрицательными значениями или имею пропуски, а положительные значения трудового стажа имеют аномально высокие значения. Данный столбец лучше удалить из наших данных."
   ]
  },
  {
   "cell_type": "code",
   "execution_count": 17,
   "id": "bdd8d495-f375-4cef-905c-ec72d2dd0d21",
   "metadata": {},
   "outputs": [],
   "source": [
    "data.drop('days_employed', axis=1, inplace=True)"
   ]
  },
  {
   "cell_type": "code",
   "execution_count": 18,
   "id": "b8585d92-4569-4e41-bc98-1b14e864a905",
   "metadata": {},
   "outputs": [
    {
     "data": {
      "text/plain": [
       "children            0\n",
       "dob_years           0\n",
       "education           0\n",
       "education_id        0\n",
       "family_status       0\n",
       "family_status_id    0\n",
       "gender              0\n",
       "income_type         0\n",
       "debt                0\n",
       "total_income        0\n",
       "purpose             0\n",
       "dtype: int64"
      ]
     },
     "execution_count": 18,
     "metadata": {},
     "output_type": "execute_result"
    }
   ],
   "source": [
    "# Проверим отсутствие пропусков в очищенном датафрейме\n",
    "data.isna().sum()"
   ]
  },
  {
   "cell_type": "markdown",
   "id": "6dd8db22-98cf-4df0-b642-74e23e452e8b",
   "metadata": {},
   "source": [
    "Проанализируем и обработаем остальные обнаруженные нами неявные пропуски и некорректные значения."
   ]
  },
  {
   "cell_type": "markdown",
   "id": "80fc5900-6c3f-46b3-92da-142d31db775c",
   "metadata": {},
   "source": [
    "### ['children']"
   ]
  },
  {
   "cell_type": "code",
   "execution_count": 19,
   "id": "831ebbb1-5dd0-4b67-9aee-09cfdef37fa4",
   "metadata": {},
   "outputs": [
    {
     "data": {
      "text/plain": [
       " 0     14149\n",
       " 1      4818\n",
       " 2      2055\n",
       " 3       330\n",
       " 20       76\n",
       "-1        47\n",
       " 4        41\n",
       " 5         9\n",
       "Name: children, dtype: int64"
      ]
     },
     "execution_count": 19,
     "metadata": {},
     "output_type": "execute_result"
    }
   ],
   "source": [
    "data['children'].value_counts()"
   ]
  },
  {
   "cell_type": "markdown",
   "id": "8e385d83-558b-427a-9aa6-70a9e6f97236",
   "metadata": {},
   "source": [
    "Столбец с количеством детей содержит 47 строк со значением (-1). Возможно ошибочно проставлен знак \"минус\". Однако выяснить это мы не можем, а процент отрицательных значений составляет около  0,2% от общего количества строк, поэтому удаление этих строк будет приемлимым решением в данном случае.  \n",
    "Обращает внимание также факт наличия в таблице данных о семьях с 20 детьми. Это вероятно также ошибочные данные, семьи с 20 детьми были бы уникальными, единичными случаями, а в нашем датафрейми их количество - 76, что превышает количество семей с четырьмя и пятью детьми. При этом в таблице нет данных о семьях с количеством детей от 6 до 19. Возможно таким образом были сгруппированы семьи с количеством детей более пяти или ошибочно появился лишний ноль после значения 2. В документации информации об этом нет, возможность уточнить также отсутствует. Примем решение об удалении этих строк. Процент таких строк составялет около 0,3% от общего количества."
   ]
  },
  {
   "cell_type": "code",
   "execution_count": 20,
   "id": "e94805eb-e609-47ad-9b62-c09f61af76f7",
   "metadata": {},
   "outputs": [],
   "source": [
    "data = data[(data['children'] != -1) & (data['children'] != 20)]"
   ]
  },
  {
   "cell_type": "markdown",
   "id": "4b5bacd2-0a40-4d0e-b6cf-11f2a1a85598",
   "metadata": {},
   "source": [
    "### ['dob_years']"
   ]
  },
  {
   "cell_type": "markdown",
   "id": "9046ab72-9136-4350-83a0-6c637e3f829c",
   "metadata": {},
   "source": [
    "При изучении общей информации по данным было замечено, что возраст заемщиков содержит нулевые значения. Проанализируем столбец dob_years подробнее:"
   ]
  },
  {
   "cell_type": "code",
   "execution_count": 21,
   "id": "89a8963e-58b0-4664-8ec9-e9835ebbdde4",
   "metadata": {
    "scrolled": true,
    "tags": []
   },
   "outputs": [
    {
     "data": {
      "text/plain": [
       "0     100\n",
       "19     14\n",
       "20     51\n",
       "21    110\n",
       "22    183\n",
       "23    252\n",
       "24    263\n",
       "25    356\n",
       "26    406\n",
       "27    490\n",
       "28    501\n",
       "29    543\n",
       "30    536\n",
       "31    556\n",
       "32    506\n",
       "33    577\n",
       "34    597\n",
       "35    614\n",
       "36    553\n",
       "37    531\n",
       "38    595\n",
       "39    572\n",
       "40    603\n",
       "41    603\n",
       "42    592\n",
       "43    510\n",
       "44    543\n",
       "45    494\n",
       "46    469\n",
       "47    480\n",
       "48    536\n",
       "49    505\n",
       "50    509\n",
       "51    446\n",
       "52    483\n",
       "53    457\n",
       "54    476\n",
       "55    441\n",
       "56    482\n",
       "57    457\n",
       "58    461\n",
       "59    441\n",
       "60    376\n",
       "61    353\n",
       "62    351\n",
       "63    268\n",
       "64    263\n",
       "65    194\n",
       "66    183\n",
       "67    167\n",
       "68     99\n",
       "69     83\n",
       "70     65\n",
       "71     58\n",
       "72     33\n",
       "73      8\n",
       "74      6\n",
       "75      1\n",
       "Name: dob_years, dtype: int64"
      ]
     },
     "execution_count": 21,
     "metadata": {},
     "output_type": "execute_result"
    }
   ],
   "source": [
    "data['dob_years'].value_counts().sort_index()"
   ]
  },
  {
   "cell_type": "markdown",
   "id": "2c92fee2-91c9-4c73-9565-80764f4bbd14",
   "metadata": {},
   "source": [
    "В столбце dob_years содержится 100 нулевых значения, других выбивающихся значений в столбце нет. Количество строк с нулевым возрастом сравнительно небольшое по отношению к объему датасета, вероятно это отсутствующие значения заполнены таким образом, удалим эти строки, т.к. возраст представляется важным прогностическим признаком и заполнение его типичными значениями может привести к снижению точности модели кредитного скорринга."
   ]
  },
  {
   "cell_type": "code",
   "execution_count": 22,
   "id": "1df23f4c-c5bd-41c4-9a9c-5b1f0641a212",
   "metadata": {},
   "outputs": [],
   "source": [
    "data = data.query('dob_years != 0')"
   ]
  },
  {
   "cell_type": "markdown",
   "id": "24a9a223-7c45-472f-8a46-9215d10df31d",
   "metadata": {},
   "source": [
    "### ['gender']"
   ]
  },
  {
   "cell_type": "markdown",
   "id": "09691ec0-a967-49ab-b71d-6db3f44ad6a6",
   "metadata": {},
   "source": [
    "Рассмотрим столбец с полом клиентов"
   ]
  },
  {
   "cell_type": "code",
   "execution_count": 23,
   "id": "2ed8e6ef-c654-45e3-94eb-6f7bbe353ac2",
   "metadata": {},
   "outputs": [
    {
     "data": {
      "text/plain": [
       "F      14083\n",
       "M       7218\n",
       "XNA        1\n",
       "Name: gender, dtype: int64"
      ]
     },
     "execution_count": 23,
     "metadata": {},
     "output_type": "execute_result"
    }
   ],
   "source": [
    "data['gender'].value_counts()"
   ]
  },
  {
   "cell_type": "markdown",
   "id": "f1c8dfb7-a551-46ee-a13a-e4242a703b7d",
   "metadata": {},
   "source": [
    "Имеется всего одно аномальное значение в столбце gender, удалим эту строку."
   ]
  },
  {
   "cell_type": "code",
   "execution_count": 24,
   "id": "65f7b366-2800-40ae-b987-6a64fcb392d2",
   "metadata": {},
   "outputs": [],
   "source": [
    "data = data.drop(data[data['gender'] == 'XNA'].index)"
   ]
  },
  {
   "cell_type": "code",
   "execution_count": 25,
   "id": "b1d258b7-1fbe-4936-941e-3b5e0c37772f",
   "metadata": {},
   "outputs": [
    {
     "name": "stdout",
     "output_type": "stream",
     "text": [
      "<class 'pandas.core.frame.DataFrame'>\n",
      "Int64Index: 21301 entries, 0 to 21524\n",
      "Data columns (total 11 columns):\n",
      " #   Column            Non-Null Count  Dtype  \n",
      "---  ------            --------------  -----  \n",
      " 0   children          21301 non-null  int64  \n",
      " 1   dob_years         21301 non-null  int64  \n",
      " 2   education         21301 non-null  object \n",
      " 3   education_id      21301 non-null  int64  \n",
      " 4   family_status     21301 non-null  object \n",
      " 5   family_status_id  21301 non-null  int64  \n",
      " 6   gender            21301 non-null  object \n",
      " 7   income_type       21301 non-null  object \n",
      " 8   debt              21301 non-null  int64  \n",
      " 9   total_income      21301 non-null  float64\n",
      " 10  purpose           21301 non-null  object \n",
      "dtypes: float64(1), int64(5), object(5)\n",
      "memory usage: 2.0+ MB\n"
     ]
    }
   ],
   "source": [
    "# Общая информация по датафрейму после обработки всех пропусков и некорректных значений\n",
    "data.info()"
   ]
  },
  {
   "cell_type": "markdown",
   "id": "a1c87e51-7d7f-47db-9add-23e20f2cb69d",
   "metadata": {},
   "source": [
    "### Вывод\n",
    "В ходе этапа по обработке пропусков были выполнены следующие операции очистки данных:  \n",
    " * пропуски в столбце с ежемесячным доходом заполнены типичными (медианными) значениями в зависимости от типа занятости клиента,\n",
    " * столбец с трудовым стажем полностью удален из датасета вследствие наличия разнотипных ошибок и практически полной непригодности для обработки,\n",
    " * удалены строки содержащие ошибочные данные в столбцах с количеством детей, полом и возрастом.  \n",
    "\n",
    "Количество строк в очищенном датасте составляет 21 301, что на 224 строк меньше изначальной таблицы, т.е. был удален примерно 1% данных."
   ]
  },
  {
   "cell_type": "markdown",
   "id": "1c0cafdc-6514-4c5a-907e-7d0d9ea720fb",
   "metadata": {},
   "source": [
    "## Изменение типов данных"
   ]
  },
  {
   "cell_type": "code",
   "execution_count": 26,
   "id": "eb24fb6a-4777-4d79-9cf4-627fc8d014b3",
   "metadata": {},
   "outputs": [
    {
     "data": {
      "text/plain": [
       "children              int64\n",
       "dob_years             int64\n",
       "education            object\n",
       "education_id          int64\n",
       "family_status        object\n",
       "family_status_id      int64\n",
       "gender               object\n",
       "income_type          object\n",
       "debt                  int64\n",
       "total_income        float64\n",
       "purpose              object\n",
       "dtype: object"
      ]
     },
     "execution_count": 26,
     "metadata": {},
     "output_type": "execute_result"
    }
   ],
   "source": [
    "# Типы данных по столбцам\n",
    "data.dtypes"
   ]
  },
  {
   "cell_type": "markdown",
   "id": "76fbf344-5d8f-4b72-9d92-fd47d16c8bef",
   "metadata": {},
   "source": [
    "В данных остался один столбец total_income с вещественным типом данных, потребности в высокой точности и сохранения дробной части числа у нас нет, для удобства преобразуем столбец ежемесячный дохода в целичисленный тип."
   ]
  },
  {
   "cell_type": "code",
   "execution_count": 27,
   "id": "3515297b-5e5e-49a5-9af1-077a898ffa1e",
   "metadata": {},
   "outputs": [],
   "source": [
    "data['total_income'] = data['total_income'].astype(int)"
   ]
  },
  {
   "cell_type": "markdown",
   "id": "41bb3ee7-1474-42ed-88b1-9c7437a98e77",
   "metadata": {},
   "source": [
    "### Вывод"
   ]
  },
  {
   "cell_type": "markdown",
   "id": "97d6fada-983e-4489-b8b6-317c367263e9",
   "metadata": {},
   "source": [
    "Тип данных столбца с ежемесячным доходом заемщиков преобразован с вещественного на целочисленный."
   ]
  },
  {
   "cell_type": "markdown",
   "id": "59ab4e8c-3d05-4e4a-97d3-287c5d2fc4ab",
   "metadata": {},
   "source": [
    "## Обработка дубликатов"
   ]
  },
  {
   "cell_type": "markdown",
   "id": "bdb3c5f1-2e4c-4d09-a80d-dffed04194fc",
   "metadata": {},
   "source": [
    "Определим количество и удалим строки с полными дублями в данных"
   ]
  },
  {
   "cell_type": "code",
   "execution_count": 28,
   "id": "a12a09f6-43f2-484d-b71d-5bdeb6e9ea85",
   "metadata": {},
   "outputs": [
    {
     "data": {
      "text/plain": [
       "54"
      ]
     },
     "execution_count": 28,
     "metadata": {},
     "output_type": "execute_result"
    }
   ],
   "source": [
    "# Количество полных дублей\n",
    "data.duplicated().sum()"
   ]
  },
  {
   "cell_type": "code",
   "execution_count": 29,
   "id": "7639b9a9-8fbb-494c-bcca-3d46d46490e6",
   "metadata": {},
   "outputs": [],
   "source": [
    "# Удалим дублирующиеся строки\n",
    "data.drop_duplicates(inplace=True)"
   ]
  },
  {
   "cell_type": "markdown",
   "id": "36ba6dd8-0767-497d-b143-e571124d35f7",
   "metadata": {},
   "source": [
    "На этапе рассмотрения общей информации было отмечено наличие неявных дубликатов в из-за использования различного регистра. Для обработки дубликатов в данном столбце приведем все символы к нижнему регистру."
   ]
  },
  {
   "cell_type": "code",
   "execution_count": 30,
   "id": "c08b9c00-eb0f-4ea0-aaf5-6a55385d47e6",
   "metadata": {},
   "outputs": [],
   "source": [
    "for _ in object_columns:\n",
    "    data[_] = data[_].str.lower()"
   ]
  },
  {
   "cell_type": "code",
   "execution_count": 31,
   "id": "652d8dd4-3b14-44ee-948f-3e84efd5a88a",
   "metadata": {},
   "outputs": [
    {
     "data": {
      "text/plain": [
       "17"
      ]
     },
     "execution_count": 31,
     "metadata": {},
     "output_type": "execute_result"
    }
   ],
   "source": [
    "data.duplicated().sum()"
   ]
  },
  {
   "cell_type": "markdown",
   "id": "46391130-f912-4296-bec1-341dfdc59e72",
   "metadata": {},
   "source": [
    "Выявлено ещё 17 дубликатов"
   ]
  },
  {
   "cell_type": "code",
   "execution_count": 32,
   "id": "50b4a4ed-4b94-4a2a-8a96-08767ad9622f",
   "metadata": {},
   "outputs": [],
   "source": [
    "# Удалим дублирующиеся строки\n",
    "data.drop_duplicates(inplace=True)"
   ]
  },
  {
   "cell_type": "markdown",
   "id": "d5d9809b-bfd9-45fb-aa4b-ff30d235fd88",
   "metadata": {},
   "source": [
    "### Вывод\n",
    "На данном этапе  были выялены и удалены полностью дублирующиеся строки, а также обработаны неявные дубли, связанные с заполнением данных с использованием разного регистра символов."
   ]
  },
  {
   "cell_type": "markdown",
   "id": "dc0d3dd7-680c-4bed-966e-76bc440d1425",
   "metadata": {},
   "source": [
    "## Категоризация данных\n",
    "### ['total_income_category']"
   ]
  },
  {
   "cell_type": "markdown",
   "id": "729e42c6-e416-4fa7-a4ac-6a768be5edd2",
   "metadata": {},
   "source": [
    "На основании диапазонов доходов заемщиков, указанных ниже, создадим в датафрейме data столбец total_income_category с категориями:\n",
    "\n",
    "- 0–30000 — `'E'`;\n",
    "- 30001–50000 — `'D'`;\n",
    "- 50001–200000 — `'C'`;\n",
    "- 200001–1000000 — `'B'`;\n",
    "- 1000001 и выше — `'A'`."
   ]
  },
  {
   "cell_type": "code",
   "execution_count": 33,
   "id": "8f2e89cb-79cb-41ce-be3e-837eb44209bd",
   "metadata": {},
   "outputs": [],
   "source": [
    "def categorize_income(income):\n",
    "    try:\n",
    "        if 0 <= income <= 30000:\n",
    "            return 'E'\n",
    "        elif 30001 <= income <= 50000:\n",
    "            return 'D'\n",
    "        elif 50001 <= income <= 200000:\n",
    "            return 'C'\n",
    "        elif 200001 <= income <= 1000000:\n",
    "            return 'B'\n",
    "        elif income >= 1000001:\n",
    "            return 'A'\n",
    "    except:\n",
    "        pass"
   ]
  },
  {
   "cell_type": "code",
   "execution_count": 34,
   "id": "00a36062-43be-4fdb-8bc7-d5b41915b059",
   "metadata": {},
   "outputs": [],
   "source": [
    "data['total_income_category'] = data['total_income'].apply(categorize_income)"
   ]
  },
  {
   "cell_type": "markdown",
   "id": "a445652e-f002-48bd-8c6f-e8150a4d2131",
   "metadata": {},
   "source": [
    "### ['purpose_category']"
   ]
  },
  {
   "cell_type": "markdown",
   "id": "ff5c466b-49fc-41b1-8c1e-62f24a3ba3ee",
   "metadata": {},
   "source": [
    "Выведим перечень уникальных целей взятия кредита из столбца purpose."
   ]
  },
  {
   "cell_type": "code",
   "execution_count": 35,
   "id": "888643a6-eb40-4fef-a011-59286d4c6685",
   "metadata": {},
   "outputs": [
    {
     "data": {
      "text/plain": [
       "38"
      ]
     },
     "execution_count": 35,
     "metadata": {},
     "output_type": "execute_result"
    }
   ],
   "source": [
    "data['purpose'].nunique()"
   ]
  },
  {
   "cell_type": "code",
   "execution_count": 36,
   "id": "97872d67-26f7-4cb5-a4d1-32512b2abae2",
   "metadata": {},
   "outputs": [
    {
     "data": {
      "text/plain": [
       "array(['покупка жилья', 'приобретение автомобиля',\n",
       "       'дополнительное образование', 'сыграть свадьбу',\n",
       "       'операции с жильем', 'образование', 'на проведение свадьбы',\n",
       "       'покупка жилья для семьи', 'покупка недвижимости',\n",
       "       'покупка коммерческой недвижимости', 'покупка жилой недвижимости',\n",
       "       'строительство собственной недвижимости', 'недвижимость',\n",
       "       'строительство недвижимости', 'на покупку подержанного автомобиля',\n",
       "       'на покупку своего автомобиля',\n",
       "       'операции с коммерческой недвижимостью',\n",
       "       'строительство жилой недвижимости', 'жилье',\n",
       "       'операции со своей недвижимостью', 'автомобили',\n",
       "       'заняться образованием', 'сделка с подержанным автомобилем',\n",
       "       'получение образования', 'автомобиль', 'свадьба',\n",
       "       'получение дополнительного образования', 'покупка своего жилья',\n",
       "       'операции с недвижимостью', 'получение высшего образования',\n",
       "       'свой автомобиль', 'сделка с автомобилем',\n",
       "       'профильное образование', 'высшее образование',\n",
       "       'покупка жилья для сдачи', 'на покупку автомобиля', 'ремонт жилью',\n",
       "       'заняться высшим образованием'], dtype=object)"
      ]
     },
     "execution_count": 36,
     "metadata": {},
     "output_type": "execute_result"
    }
   ],
   "source": [
    "data['purpose'].unique()"
   ]
  },
  {
   "cell_type": "markdown",
   "id": "53cf8c1e-3000-4e2f-a43b-f6943ec69238",
   "metadata": {},
   "source": [
    "Создадим функцию, которая на основании данных из столбца purpose сформирует новый столбец purpose_category, в который войдут следующие категории:\n",
    "\n",
    "* 'операции с автомобилем',\n",
    "* 'операции с недвижимостью',\n",
    "* 'проведение свадьбы',\n",
    "* 'получение образования'."
   ]
  },
  {
   "cell_type": "code",
   "execution_count": 37,
   "id": "2b1472d9-eb63-4ba8-84ad-7b74beb1786a",
   "metadata": {},
   "outputs": [],
   "source": [
    "def categorize_purpose(row):\n",
    "    try:\n",
    "        if 'автом' in row:\n",
    "            return 'операции с автомобилем'\n",
    "        elif 'жил' in row or 'недвиж' in row:\n",
    "            return 'операции с недвижимостью'\n",
    "        elif 'свад' in row:\n",
    "            return 'проведение свадьбы'\n",
    "        elif 'образов' in row:\n",
    "            return 'получение образования'\n",
    "    except:\n",
    "        return 'нет категории'"
   ]
  },
  {
   "cell_type": "code",
   "execution_count": 38,
   "id": "53269707-c2d0-49b0-858f-c03819817827",
   "metadata": {},
   "outputs": [],
   "source": [
    "data['purpose_category'] = data['purpose'].apply(categorize_purpose)"
   ]
  },
  {
   "cell_type": "code",
   "execution_count": 39,
   "id": "92fe91fe-ca3b-423b-aedb-d2c32e974aa3",
   "metadata": {},
   "outputs": [
    {
     "data": {
      "text/plain": [
       "array(['операции с недвижимостью', 'операции с автомобилем',\n",
       "       'получение образования', 'проведение свадьбы'], dtype=object)"
      ]
     },
     "execution_count": 39,
     "metadata": {},
     "output_type": "execute_result"
    }
   ],
   "source": [
    "data['purpose_category'].unique()"
   ]
  },
  {
   "cell_type": "markdown",
   "id": "3937dc56-6fed-4f10-9e77-8783b2512c03",
   "metadata": {},
   "source": [
    "### ['children_category']"
   ]
  },
  {
   "cell_type": "code",
   "execution_count": 40,
   "id": "1435823a-608d-4dc8-a1b8-d6f8bb083aa2",
   "metadata": {},
   "outputs": [
    {
     "data": {
      "text/plain": [
       "0    14021\n",
       "1     4792\n",
       "2     2039\n",
       "3      328\n",
       "4       41\n",
       "5        9\n",
       "Name: children, dtype: int64"
      ]
     },
     "execution_count": 40,
     "metadata": {},
     "output_type": "execute_result"
    }
   ],
   "source": [
    "# Количество уникальных значений по столбцу `children`\n",
    "data['children'].value_counts()"
   ]
  },
  {
   "cell_type": "markdown",
   "id": "5f1d0735-474c-41d1-897a-dfe8f6d043ca",
   "metadata": {},
   "source": [
    "Из распределения видно, что в выборке сравнительно мало семей с четырьмя и пятью детьми. Их количество может оказаться недостаточным для формулировки выводов.  \n",
    "Представляется логичным объединение семей с 3, 4 и 5 детьми в одну группу - более 2-х детей."
   ]
  },
  {
   "cell_type": "code",
   "execution_count": 41,
   "id": "f6dd1e40-e5a2-481a-833e-d2a5851c7901",
   "metadata": {},
   "outputs": [],
   "source": [
    "def children_category(children):\n",
    "    '''\n",
    "    Функция возвращает группу по количеству детей children:\n",
    "    - 'нет детей', если children = 0;\n",
    "    - '1 ребенок', если children = 1;\n",
    "    - '2 детей', если children = 2;\n",
    "    - 'более 2-х детей', если children > 2;\n",
    "    '''    \n",
    "    if children == 0:\n",
    "        return 'нет детей'\n",
    "    if children == 1:\n",
    "        return '1 ребенок'\n",
    "    if children == 2:\n",
    "        return '2 детей'\n",
    "    return 'более 2-х детей'"
   ]
  },
  {
   "cell_type": "code",
   "execution_count": 42,
   "id": "02a3c9d3-3930-45f7-a5d4-7fb802d0fafd",
   "metadata": {},
   "outputs": [
    {
     "data": {
      "text/plain": [
       "нет детей          14021\n",
       "1 ребенок           4792\n",
       "2 детей             2039\n",
       "более 2-х детей      378\n",
       "Name: children_category, dtype: int64"
      ]
     },
     "execution_count": 42,
     "metadata": {},
     "output_type": "execute_result"
    }
   ],
   "source": [
    "data['children_category'] = data['children'].apply(children_category)\n",
    "data['children_category'].value_counts()"
   ]
  },
  {
   "cell_type": "markdown",
   "id": "c8cf6f49-c3f8-4518-8883-192c7c736ff4",
   "metadata": {},
   "source": [
    "Группа с количеством детей более 2-х сравнительно малочисленна, однако еще большее укрупнение групп может негативно сказаться на качестве модели."
   ]
  },
  {
   "cell_type": "markdown",
   "id": "b6ae31ac-a1d2-4553-a74f-e4f848c6e2fc",
   "metadata": {},
   "source": [
    "### ['age_category']"
   ]
  },
  {
   "cell_type": "code",
   "execution_count": 43,
   "id": "100f335a-1dd8-4c37-a7fa-238c47aac516",
   "metadata": {
    "scrolled": true,
    "tags": []
   },
   "outputs": [
    {
     "data": {
      "text/plain": [
       "35    613\n",
       "41    601\n",
       "40    601\n",
       "34    595\n",
       "38    594\n",
       "42    591\n",
       "33    577\n",
       "39    571\n",
       "31    555\n",
       "36    552\n",
       "29    542\n",
       "44    541\n",
       "48    534\n",
       "30    533\n",
       "37    530\n",
       "43    509\n",
       "50    508\n",
       "49    505\n",
       "32    505\n",
       "28    501\n",
       "45    493\n",
       "27    490\n",
       "52    483\n",
       "56    478\n",
       "47    477\n",
       "54    473\n",
       "46    466\n",
       "53    457\n",
       "58    454\n",
       "57    453\n",
       "51    444\n",
       "55    441\n",
       "59    440\n",
       "26    406\n",
       "60    373\n",
       "25    356\n",
       "61    352\n",
       "62    347\n",
       "63    268\n",
       "24    262\n",
       "64    258\n",
       "23    250\n",
       "65    193\n",
       "22    183\n",
       "66    182\n",
       "67    167\n",
       "21    110\n",
       "68     99\n",
       "69     83\n",
       "70     65\n",
       "71     56\n",
       "20     51\n",
       "72     33\n",
       "19     14\n",
       "73      8\n",
       "74      6\n",
       "75      1\n",
       "Name: dob_years, dtype: int64"
      ]
     },
     "execution_count": 43,
     "metadata": {},
     "output_type": "execute_result"
    }
   ],
   "source": [
    "# Количество уникальных значений по столбцу 'dob_years'\n",
    "data['dob_years'].value_counts()"
   ]
  },
  {
   "cell_type": "code",
   "execution_count": 44,
   "id": "9f4b22cb-14ae-4add-99f9-5a4f0c281d99",
   "metadata": {},
   "outputs": [],
   "source": [
    "# Функция для группировки заемщиков по возрасту\n",
    "def age_category(age):\n",
    "    if age < 25:\n",
    "        return 'до 25 лет'\n",
    "    if 25 <= age < 35:\n",
    "        return 'от 25 до 35 лет'\n",
    "    if 35 <= age < 45:\n",
    "        return 'от 35 до 45 лет'\n",
    "    if 45 <= age < 55:\n",
    "        return 'от 45 до 55 лет'\n",
    "    if 55 <= age < 65:\n",
    "        return 'от 55 до 65 лет'\n",
    "    return 'более 65 лет'"
   ]
  },
  {
   "cell_type": "code",
   "execution_count": 45,
   "id": "d0c8a71a-613a-48fe-86b4-79fc1ca163e6",
   "metadata": {},
   "outputs": [
    {
     "data": {
      "text/plain": [
       "от 35 до 45 лет    5703\n",
       "от 25 до 35 лет    5060\n",
       "от 45 до 55 лет    4840\n",
       "от 55 до 65 лет    3864\n",
       "более 65 лет        893\n",
       "до 25 лет           870\n",
       "Name: age_category, dtype: int64"
      ]
     },
     "execution_count": 45,
     "metadata": {},
     "output_type": "execute_result"
    }
   ],
   "source": [
    "data['age_category'] = data['dob_years'].apply(age_category)\n",
    "data['age_category'].value_counts()"
   ]
  },
  {
   "cell_type": "markdown",
   "id": "a0ca84d8-5e09-48c3-9047-979a73990eff",
   "metadata": {},
   "source": [
    "Каждая группа по возрасту получилась достаточно представительной, такую категоризацию можно оставить для использования в модели."
   ]
  },
  {
   "cell_type": "markdown",
   "id": "f7973a62-e2ee-40c8-9874-73a84f98d2b3",
   "metadata": {},
   "source": [
    "### ['education']"
   ]
  },
  {
   "cell_type": "code",
   "execution_count": 46,
   "id": "72a7fbac-2e42-44ca-b17d-9e741388973c",
   "metadata": {},
   "outputs": [
    {
     "data": {
      "text/plain": [
       "среднее                15012\n",
       "высшее                  5192\n",
       "неоконченное высшее      738\n",
       "начальное                282\n",
       "ученая степень             6\n",
       "Name: education, dtype: int64"
      ]
     },
     "execution_count": 46,
     "metadata": {},
     "output_type": "execute_result"
    }
   ],
   "source": [
    "# Распределение заемщиков по уровню образования\n",
    "data['education'].value_counts()"
   ]
  },
  {
   "cell_type": "markdown",
   "id": "4a62f2c0-96cf-49ff-8d74-fe804e70f022",
   "metadata": {},
   "source": [
    "Количество заемщиков с ученой степенью слишком мало, всего шесть человек. Укрупним категорию с высшим образованием, включив в нее также группу с ученой степенью. Произведем замену в столбце education без добавления нового столбца."
   ]
  },
  {
   "cell_type": "code",
   "execution_count": 47,
   "id": "5fb1e165-e914-46cd-a2bf-0ac5f35fa9e0",
   "metadata": {},
   "outputs": [
    {
     "data": {
      "text/plain": [
       "среднее                15012\n",
       "высшее                  5198\n",
       "неоконченное высшее      738\n",
       "начальное                282\n",
       "Name: education, dtype: int64"
      ]
     },
     "execution_count": 47,
     "metadata": {},
     "output_type": "execute_result"
    }
   ],
   "source": [
    "data.loc[data['education'] == 'ученая степень', 'education'] = 'высшее'\n",
    "data['education'].value_counts()"
   ]
  },
  {
   "cell_type": "markdown",
   "id": "117d8429-9793-47b4-82b5-2f10809b5160",
   "metadata": {},
   "source": [
    "### ['income_type']"
   ]
  },
  {
   "cell_type": "code",
   "execution_count": 48,
   "id": "25fe94c8-8cd5-48cc-b9c9-385b39f40e36",
   "metadata": {},
   "outputs": [
    {
     "data": {
      "text/plain": [
       "сотрудник          10961\n",
       "компаньон           5026\n",
       "пенсионер           3792\n",
       "госслужащий         1445\n",
       "безработный            2\n",
       "предприниматель        2\n",
       "студент                1\n",
       "в декрете              1\n",
       "Name: income_type, dtype: int64"
      ]
     },
     "execution_count": 48,
     "metadata": {},
     "output_type": "execute_result"
    }
   ],
   "source": [
    "# Распределение заемщиков по типу занятости\n",
    "data['income_type'].value_counts()"
   ]
  },
  {
   "cell_type": "markdown",
   "id": "019fe1d7-022f-4615-8087-e89758eae8a4",
   "metadata": {},
   "source": [
    "Категории \"безработный\", \"студент\", \"в декрете\", \"предприниматель\" представлены в единичном количестве.  \n",
    "Требует уточнения понятие \"компаньон\", т.к. оно не характерно для российской практики, вероятнее всего под этим понятием имеются ввиду владельцы/совладельцы компаний. Тогда с небольшой натяжкой можно отнести единственного \"предпринимателя\" в эту категорию, а остальные категории удалим, т.к. из них не получится собрать представительную выборку даже если объединить в одну категорию, например 'прочие'."
   ]
  },
  {
   "cell_type": "code",
   "execution_count": 49,
   "id": "c732da08-2514-40d4-a2a3-225aa5cf7329",
   "metadata": {},
   "outputs": [],
   "source": [
    "data.loc[data['income_type'] == 'предприниматель', 'income_type'] = 'компаньон'\n",
    "list_income = ['сотрудник', 'компаньон', 'пенсионер', 'госслужащий']\n",
    "data = data.query('income_type.isin(@list_income)',engine='python')"
   ]
  },
  {
   "cell_type": "code",
   "execution_count": 50,
   "id": "c57af28b-b44f-4913-8476-d2efe47b170f",
   "metadata": {},
   "outputs": [
    {
     "data": {
      "text/plain": [
       "сотрудник      10961\n",
       "компаньон       5028\n",
       "пенсионер       3792\n",
       "госслужащий     1445\n",
       "Name: income_type, dtype: int64"
      ]
     },
     "execution_count": 50,
     "metadata": {},
     "output_type": "execute_result"
    }
   ],
   "source": [
    "data['income_type'].value_counts()"
   ]
  },
  {
   "cell_type": "markdown",
   "id": "54e7ab5d-542d-42fa-a249-c4a9d58e7878",
   "metadata": {},
   "source": [
    "Удалим из таблицы лишние столбцы на основании которых мы проводили категоризацию, оставив только соответствующие им категории"
   ]
  },
  {
   "cell_type": "code",
   "execution_count": 51,
   "id": "ac5b7e64-ef01-4cf9-9779-2d87828c95fd",
   "metadata": {},
   "outputs": [],
   "source": [
    "data_category = data.drop(['children', 'dob_years', 'education_id', 'family_status_id', 'gender', 'total_income', 'purpose'], axis=1)"
   ]
  },
  {
   "cell_type": "code",
   "execution_count": 52,
   "id": "a271a35e-3d81-4fc0-a1a4-49a25dff1855",
   "metadata": {},
   "outputs": [
    {
     "data": {
      "text/html": [
       "<div>\n",
       "<style scoped>\n",
       "    .dataframe tbody tr th:only-of-type {\n",
       "        vertical-align: middle;\n",
       "    }\n",
       "\n",
       "    .dataframe tbody tr th {\n",
       "        vertical-align: top;\n",
       "    }\n",
       "\n",
       "    .dataframe thead th {\n",
       "        text-align: right;\n",
       "    }\n",
       "</style>\n",
       "<table border=\"1\" class=\"dataframe\">\n",
       "  <thead>\n",
       "    <tr style=\"text-align: right;\">\n",
       "      <th></th>\n",
       "      <th>education</th>\n",
       "      <th>family_status</th>\n",
       "      <th>income_type</th>\n",
       "      <th>debt</th>\n",
       "      <th>total_income_category</th>\n",
       "      <th>purpose_category</th>\n",
       "      <th>children_category</th>\n",
       "      <th>age_category</th>\n",
       "    </tr>\n",
       "  </thead>\n",
       "  <tbody>\n",
       "    <tr>\n",
       "      <th>0</th>\n",
       "      <td>высшее</td>\n",
       "      <td>женат / замужем</td>\n",
       "      <td>сотрудник</td>\n",
       "      <td>0</td>\n",
       "      <td>B</td>\n",
       "      <td>операции с недвижимостью</td>\n",
       "      <td>1 ребенок</td>\n",
       "      <td>от 35 до 45 лет</td>\n",
       "    </tr>\n",
       "    <tr>\n",
       "      <th>1</th>\n",
       "      <td>среднее</td>\n",
       "      <td>женат / замужем</td>\n",
       "      <td>сотрудник</td>\n",
       "      <td>0</td>\n",
       "      <td>C</td>\n",
       "      <td>операции с автомобилем</td>\n",
       "      <td>1 ребенок</td>\n",
       "      <td>от 35 до 45 лет</td>\n",
       "    </tr>\n",
       "    <tr>\n",
       "      <th>2</th>\n",
       "      <td>среднее</td>\n",
       "      <td>женат / замужем</td>\n",
       "      <td>сотрудник</td>\n",
       "      <td>0</td>\n",
       "      <td>C</td>\n",
       "      <td>операции с недвижимостью</td>\n",
       "      <td>нет детей</td>\n",
       "      <td>от 25 до 35 лет</td>\n",
       "    </tr>\n",
       "    <tr>\n",
       "      <th>3</th>\n",
       "      <td>среднее</td>\n",
       "      <td>женат / замужем</td>\n",
       "      <td>сотрудник</td>\n",
       "      <td>0</td>\n",
       "      <td>B</td>\n",
       "      <td>получение образования</td>\n",
       "      <td>более 2-х детей</td>\n",
       "      <td>от 25 до 35 лет</td>\n",
       "    </tr>\n",
       "    <tr>\n",
       "      <th>4</th>\n",
       "      <td>среднее</td>\n",
       "      <td>гражданский брак</td>\n",
       "      <td>пенсионер</td>\n",
       "      <td>0</td>\n",
       "      <td>C</td>\n",
       "      <td>проведение свадьбы</td>\n",
       "      <td>нет детей</td>\n",
       "      <td>от 45 до 55 лет</td>\n",
       "    </tr>\n",
       "  </tbody>\n",
       "</table>\n",
       "</div>"
      ],
      "text/plain": [
       "  education     family_status income_type  debt total_income_category  \\\n",
       "0    высшее   женат / замужем   сотрудник     0                     B   \n",
       "1   среднее   женат / замужем   сотрудник     0                     C   \n",
       "2   среднее   женат / замужем   сотрудник     0                     C   \n",
       "3   среднее   женат / замужем   сотрудник     0                     B   \n",
       "4   среднее  гражданский брак   пенсионер     0                     C   \n",
       "\n",
       "           purpose_category children_category     age_category  \n",
       "0  операции с недвижимостью         1 ребенок  от 35 до 45 лет  \n",
       "1    операции с автомобилем         1 ребенок  от 35 до 45 лет  \n",
       "2  операции с недвижимостью         нет детей  от 25 до 35 лет  \n",
       "3     получение образования   более 2-х детей  от 25 до 35 лет  \n",
       "4        проведение свадьбы         нет детей  от 45 до 55 лет  "
      ]
     },
     "execution_count": 52,
     "metadata": {},
     "output_type": "execute_result"
    }
   ],
   "source": [
    "data_category.head()"
   ]
  },
  {
   "cell_type": "markdown",
   "id": "b3209e76-56f6-41b4-8c19-fde31dde60e1",
   "metadata": {},
   "source": [
    "### Вывод\n",
    "\n",
    "Была произведена категоризация числовых признаков: количество детей, возраст заемщиков, ежемесячный доход.  \n",
    "Укрупнены категориальные данные: целей взятия кредита, образование, занятость."
   ]
  },
  {
   "cell_type": "markdown",
   "id": "ff102a70-3388-463d-b944-67a065aa5a61",
   "metadata": {},
   "source": [
    "# Исследование надежности заемщиков по категориям"
   ]
  },
  {
   "cell_type": "markdown",
   "id": "152c0b4d-1932-4c63-8be9-0c33b3849255",
   "metadata": {},
   "source": [
    "## Зависимость между наличием детей и возвратом кредита в срок"
   ]
  },
  {
   "cell_type": "code",
   "execution_count": 53,
   "id": "7b944dd5-cb42-48db-bde0-754a948358c6",
   "metadata": {},
   "outputs": [
    {
     "data": {
      "text/html": [
       "<div>\n",
       "<style scoped>\n",
       "    .dataframe tbody tr th:only-of-type {\n",
       "        vertical-align: middle;\n",
       "    }\n",
       "\n",
       "    .dataframe tbody tr th {\n",
       "        vertical-align: top;\n",
       "    }\n",
       "\n",
       "    .dataframe thead th {\n",
       "        text-align: right;\n",
       "    }\n",
       "</style>\n",
       "<table border=\"1\" class=\"dataframe\">\n",
       "  <thead>\n",
       "    <tr style=\"text-align: right;\">\n",
       "      <th></th>\n",
       "      <th>education</th>\n",
       "      <th>family_status</th>\n",
       "      <th>income_type</th>\n",
       "      <th>debt</th>\n",
       "      <th>total_income_category</th>\n",
       "      <th>purpose_category</th>\n",
       "      <th>children_category</th>\n",
       "      <th>age_category</th>\n",
       "    </tr>\n",
       "  </thead>\n",
       "  <tbody>\n",
       "    <tr>\n",
       "      <th>0</th>\n",
       "      <td>высшее</td>\n",
       "      <td>женат / замужем</td>\n",
       "      <td>сотрудник</td>\n",
       "      <td>0</td>\n",
       "      <td>B</td>\n",
       "      <td>операции с недвижимостью</td>\n",
       "      <td>1 ребенок</td>\n",
       "      <td>от 35 до 45 лет</td>\n",
       "    </tr>\n",
       "    <tr>\n",
       "      <th>1</th>\n",
       "      <td>среднее</td>\n",
       "      <td>женат / замужем</td>\n",
       "      <td>сотрудник</td>\n",
       "      <td>0</td>\n",
       "      <td>C</td>\n",
       "      <td>операции с автомобилем</td>\n",
       "      <td>1 ребенок</td>\n",
       "      <td>от 35 до 45 лет</td>\n",
       "    </tr>\n",
       "    <tr>\n",
       "      <th>2</th>\n",
       "      <td>среднее</td>\n",
       "      <td>женат / замужем</td>\n",
       "      <td>сотрудник</td>\n",
       "      <td>0</td>\n",
       "      <td>C</td>\n",
       "      <td>операции с недвижимостью</td>\n",
       "      <td>нет детей</td>\n",
       "      <td>от 25 до 35 лет</td>\n",
       "    </tr>\n",
       "    <tr>\n",
       "      <th>3</th>\n",
       "      <td>среднее</td>\n",
       "      <td>женат / замужем</td>\n",
       "      <td>сотрудник</td>\n",
       "      <td>0</td>\n",
       "      <td>B</td>\n",
       "      <td>получение образования</td>\n",
       "      <td>более 2-х детей</td>\n",
       "      <td>от 25 до 35 лет</td>\n",
       "    </tr>\n",
       "    <tr>\n",
       "      <th>4</th>\n",
       "      <td>среднее</td>\n",
       "      <td>гражданский брак</td>\n",
       "      <td>пенсионер</td>\n",
       "      <td>0</td>\n",
       "      <td>C</td>\n",
       "      <td>проведение свадьбы</td>\n",
       "      <td>нет детей</td>\n",
       "      <td>от 45 до 55 лет</td>\n",
       "    </tr>\n",
       "    <tr>\n",
       "      <th>...</th>\n",
       "      <td>...</td>\n",
       "      <td>...</td>\n",
       "      <td>...</td>\n",
       "      <td>...</td>\n",
       "      <td>...</td>\n",
       "      <td>...</td>\n",
       "      <td>...</td>\n",
       "      <td>...</td>\n",
       "    </tr>\n",
       "    <tr>\n",
       "      <th>21520</th>\n",
       "      <td>среднее</td>\n",
       "      <td>гражданский брак</td>\n",
       "      <td>компаньон</td>\n",
       "      <td>0</td>\n",
       "      <td>B</td>\n",
       "      <td>операции с недвижимостью</td>\n",
       "      <td>1 ребенок</td>\n",
       "      <td>от 35 до 45 лет</td>\n",
       "    </tr>\n",
       "    <tr>\n",
       "      <th>21521</th>\n",
       "      <td>среднее</td>\n",
       "      <td>женат / замужем</td>\n",
       "      <td>пенсионер</td>\n",
       "      <td>0</td>\n",
       "      <td>C</td>\n",
       "      <td>операции с автомобилем</td>\n",
       "      <td>нет детей</td>\n",
       "      <td>более 65 лет</td>\n",
       "    </tr>\n",
       "    <tr>\n",
       "      <th>21522</th>\n",
       "      <td>среднее</td>\n",
       "      <td>гражданский брак</td>\n",
       "      <td>сотрудник</td>\n",
       "      <td>1</td>\n",
       "      <td>C</td>\n",
       "      <td>операции с недвижимостью</td>\n",
       "      <td>1 ребенок</td>\n",
       "      <td>от 35 до 45 лет</td>\n",
       "    </tr>\n",
       "    <tr>\n",
       "      <th>21523</th>\n",
       "      <td>среднее</td>\n",
       "      <td>женат / замужем</td>\n",
       "      <td>сотрудник</td>\n",
       "      <td>1</td>\n",
       "      <td>B</td>\n",
       "      <td>операции с автомобилем</td>\n",
       "      <td>более 2-х детей</td>\n",
       "      <td>от 35 до 45 лет</td>\n",
       "    </tr>\n",
       "    <tr>\n",
       "      <th>21524</th>\n",
       "      <td>среднее</td>\n",
       "      <td>женат / замужем</td>\n",
       "      <td>сотрудник</td>\n",
       "      <td>0</td>\n",
       "      <td>C</td>\n",
       "      <td>операции с автомобилем</td>\n",
       "      <td>2 детей</td>\n",
       "      <td>от 35 до 45 лет</td>\n",
       "    </tr>\n",
       "  </tbody>\n",
       "</table>\n",
       "<p>21226 rows × 8 columns</p>\n",
       "</div>"
      ],
      "text/plain": [
       "      education     family_status income_type  debt total_income_category  \\\n",
       "0        высшее   женат / замужем   сотрудник     0                     B   \n",
       "1       среднее   женат / замужем   сотрудник     0                     C   \n",
       "2       среднее   женат / замужем   сотрудник     0                     C   \n",
       "3       среднее   женат / замужем   сотрудник     0                     B   \n",
       "4       среднее  гражданский брак   пенсионер     0                     C   \n",
       "...         ...               ...         ...   ...                   ...   \n",
       "21520   среднее  гражданский брак   компаньон     0                     B   \n",
       "21521   среднее   женат / замужем   пенсионер     0                     C   \n",
       "21522   среднее  гражданский брак   сотрудник     1                     C   \n",
       "21523   среднее   женат / замужем   сотрудник     1                     B   \n",
       "21524   среднее   женат / замужем   сотрудник     0                     C   \n",
       "\n",
       "               purpose_category children_category     age_category  \n",
       "0      операции с недвижимостью         1 ребенок  от 35 до 45 лет  \n",
       "1        операции с автомобилем         1 ребенок  от 35 до 45 лет  \n",
       "2      операции с недвижимостью         нет детей  от 25 до 35 лет  \n",
       "3         получение образования   более 2-х детей  от 25 до 35 лет  \n",
       "4            проведение свадьбы         нет детей  от 45 до 55 лет  \n",
       "...                         ...               ...              ...  \n",
       "21520  операции с недвижимостью         1 ребенок  от 35 до 45 лет  \n",
       "21521    операции с автомобилем         нет детей     более 65 лет  \n",
       "21522  операции с недвижимостью         1 ребенок  от 35 до 45 лет  \n",
       "21523    операции с автомобилем   более 2-х детей  от 35 до 45 лет  \n",
       "21524    операции с автомобилем           2 детей  от 35 до 45 лет  \n",
       "\n",
       "[21226 rows x 8 columns]"
      ]
     },
     "execution_count": 53,
     "metadata": {},
     "output_type": "execute_result"
    }
   ],
   "source": [
    "data_category"
   ]
  },
  {
   "cell_type": "code",
   "execution_count": 54,
   "id": "21567f0d-0efe-4ef4-96dc-e0e125a097f0",
   "metadata": {},
   "outputs": [],
   "source": [
    "# считаем среднее значение доли задолженности по возврату кредитов в каждой группе по количеству детей в семье\n",
    "data_bebt_children = data_category.groupby('children_category').agg({'debt':['mean', 'count']})"
   ]
  },
  {
   "cell_type": "code",
   "execution_count": 55,
   "id": "89b8c3b5-3c35-4a33-9281-1b1246d69c74",
   "metadata": {},
   "outputs": [
    {
     "data": {
      "text/html": [
       "<div>\n",
       "<style scoped>\n",
       "    .dataframe tbody tr th:only-of-type {\n",
       "        vertical-align: middle;\n",
       "    }\n",
       "\n",
       "    .dataframe tbody tr th {\n",
       "        vertical-align: top;\n",
       "    }\n",
       "\n",
       "    .dataframe thead th {\n",
       "        text-align: right;\n",
       "    }\n",
       "</style>\n",
       "<table border=\"1\" class=\"dataframe\">\n",
       "  <thead>\n",
       "    <tr style=\"text-align: right;\">\n",
       "      <th></th>\n",
       "      <th>mean</th>\n",
       "      <th>count</th>\n",
       "    </tr>\n",
       "    <tr>\n",
       "      <th>children_category</th>\n",
       "      <th></th>\n",
       "      <th></th>\n",
       "    </tr>\n",
       "  </thead>\n",
       "  <tbody>\n",
       "    <tr>\n",
       "      <th>1 ребенок</th>\n",
       "      <td>9.2</td>\n",
       "      <td>4791</td>\n",
       "    </tr>\n",
       "    <tr>\n",
       "      <th>2 детей</th>\n",
       "      <td>9.5</td>\n",
       "      <td>2038</td>\n",
       "    </tr>\n",
       "    <tr>\n",
       "      <th>более 2-х детей</th>\n",
       "      <td>8.2</td>\n",
       "      <td>378</td>\n",
       "    </tr>\n",
       "    <tr>\n",
       "      <th>нет детей</th>\n",
       "      <td>7.5</td>\n",
       "      <td>14019</td>\n",
       "    </tr>\n",
       "  </tbody>\n",
       "</table>\n",
       "</div>"
      ],
      "text/plain": [
       "                   mean  count\n",
       "children_category             \n",
       "1 ребенок           9.2   4791\n",
       "2 детей             9.5   2038\n",
       "более 2-х детей     8.2    378\n",
       "нет детей           7.5  14019"
      ]
     },
     "execution_count": 55,
     "metadata": {},
     "output_type": "execute_result"
    }
   ],
   "source": [
    "# переводим среднее значение доли задолженности в процентное выражение \n",
    "data_bebt_children = data_bebt_children.xs('debt', axis=1, level=0)\n",
    "data_bebt_children['mean'] = (data_bebt_children['mean'] * 100).round(1)\n",
    "data_bebt_children"
   ]
  },
  {
   "cell_type": "code",
   "execution_count": 56,
   "id": "191917a5-2b35-463c-8528-bfe45a719248",
   "metadata": {},
   "outputs": [
    {
     "data": {
      "image/png": "[encoded data removed]",
      "text/plain": [
       "<Figure size 720x288 with 1 Axes>"
      ]
     },
     "metadata": {
      "needs_background": "light"
     },
     "output_type": "display_data"
    }
   ],
   "source": [
    "plt.figure(figsize=(10,4))\n",
    "plt.barh(data_bebt_children.index, data_bebt_children['mean'])\n",
    "plt.suptitle(\"Процент задолженностей по кредитам в зависимости от количества детей\");"
   ]
  },
  {
   "cell_type": "markdown",
   "id": "503a97de-5ff3-4efb-b4bd-c3fbc3de2a84",
   "metadata": {},
   "source": [
    "### Вывод\n",
    "\n",
    "Лучше всего с возвращаемостью обстоит дело у клиентов без детей (процент невозвратов 7,5%), хуже всего у клиентов с 2-мя детьми (9,5%) и с 1 ребенком (9,2%). При количестве детей более двух - процент невозвратов составляет 8,2%, т.е. лучше чем у клиентов с одним или двумя детьми, но хуже чем у клиентов без детей. Это может быть связано с тем, что больше двух детей заводят в основном более состоятельные и соответственно, кредитоспособные, люди. Также причина может быть связана с малым объемом выборки для данной категории, и соответственно, ее возможной нерепрезентативностью."
   ]
  },
  {
   "cell_type": "markdown",
   "id": "56c30b3a-aa25-4847-aa9b-9b83b326d816",
   "metadata": {},
   "source": [
    "## Зависимость между семейным положением и возвратом кредита в срок"
   ]
  },
  {
   "cell_type": "code",
   "execution_count": 57,
   "id": "d463ee1f-758a-421c-b392-11822838a3ba",
   "metadata": {},
   "outputs": [
    {
     "data": {
      "text/html": [
       "<div>\n",
       "<style scoped>\n",
       "    .dataframe tbody tr th:only-of-type {\n",
       "        vertical-align: middle;\n",
       "    }\n",
       "\n",
       "    .dataframe tbody tr th {\n",
       "        vertical-align: top;\n",
       "    }\n",
       "\n",
       "    .dataframe thead th {\n",
       "        text-align: right;\n",
       "    }\n",
       "</style>\n",
       "<table border=\"1\" class=\"dataframe\">\n",
       "  <thead>\n",
       "    <tr style=\"text-align: right;\">\n",
       "      <th></th>\n",
       "      <th>mean</th>\n",
       "      <th>count</th>\n",
       "    </tr>\n",
       "    <tr>\n",
       "      <th>family_status</th>\n",
       "      <th></th>\n",
       "      <th></th>\n",
       "    </tr>\n",
       "  </thead>\n",
       "  <tbody>\n",
       "    <tr>\n",
       "      <th>в разводе</th>\n",
       "      <td>7.1</td>\n",
       "      <td>1179</td>\n",
       "    </tr>\n",
       "    <tr>\n",
       "      <th>вдовец / вдова</th>\n",
       "      <td>6.6</td>\n",
       "      <td>946</td>\n",
       "    </tr>\n",
       "    <tr>\n",
       "      <th>гражданский брак</th>\n",
       "      <td>9.3</td>\n",
       "      <td>4111</td>\n",
       "    </tr>\n",
       "    <tr>\n",
       "      <th>женат / замужем</th>\n",
       "      <td>7.5</td>\n",
       "      <td>12211</td>\n",
       "    </tr>\n",
       "    <tr>\n",
       "      <th>не женат / не замужем</th>\n",
       "      <td>9.8</td>\n",
       "      <td>2779</td>\n",
       "    </tr>\n",
       "  </tbody>\n",
       "</table>\n",
       "</div>"
      ],
      "text/plain": [
       "                       mean  count\n",
       "family_status                     \n",
       "в разводе               7.1   1179\n",
       "вдовец / вдова          6.6    946\n",
       "гражданский брак        9.3   4111\n",
       "женат / замужем         7.5  12211\n",
       "не женат / не замужем   9.8   2779"
      ]
     },
     "execution_count": 57,
     "metadata": {},
     "output_type": "execute_result"
    }
   ],
   "source": [
    "# считаем среднее значение доли задолженности по возврату кредитов в каждой группе по количеству детей в семье\n",
    "data_bebt_family_status = data_category.groupby('family_status').agg({'debt':['mean', 'count']})\n",
    "data_bebt_family_status = data_bebt_family_status.xs('debt', axis=1, level=0)\n",
    "data_bebt_family_status['mean'] = (data_bebt_family_status['mean'] * 100).round(1)\n",
    "data_bebt_family_status"
   ]
  },
  {
   "cell_type": "code",
   "execution_count": 58,
   "id": "0f64e781-8743-4fd2-b342-dd99b5163d93",
   "metadata": {},
   "outputs": [
    {
     "data": {
      "image/png": "[encoded data removed]",
      "text/plain": [
       "<Figure size 720x288 with 1 Axes>"
      ]
     },
     "metadata": {
      "needs_background": "light"
     },
     "output_type": "display_data"
    }
   ],
   "source": [
    "plt.figure(figsize=(10,4))\n",
    "plt.barh(data_bebt_family_status.index, data_bebt_family_status['mean'])\n",
    "plt.suptitle(\"Процент задолженностей по кредитам в зависимости от семейного положения\");"
   ]
  },
  {
   "cell_type": "markdown",
   "id": "865d4eff-5ab0-419e-8f94-0531b6a47e3b",
   "metadata": {},
   "source": [
    "### Вывод\n",
    "\n",
    "Лучше всего с возвращаемостью кредитов в срок обстоят дела у вдов/вдовцов (невозврат - 6,6%) и клиентов, находящихся в разводе (невозврат - 7,1%). Больше всего проблем с возвратом кредитов у клиентов не состоявших в браке (9,8 %) и клиентов, состоящих в гражданском браке (9,3%). Вероятно такая связь кореллирует с возрастом, логично предположить, что вдовы/вдовцы это наиболее пожилые клиенты; клиенты, находящиеся в разводе - скорее всего из категории пожилых и средних лет, уже имеющие опыт семейной жизни и успевшие развестись; клиенты находящиеся в гражданском браке - вероятно, в основной массе, молодые люди и люди средних лет, еще не успевшие зарегестрировать отношения; а клиенты никогда не состоявшие в браке - это наиболее молодая категория клиентов.  \n",
    "Основная категория клиентов, состоит в официальных отношениях и имеет процент невозвратов на уровне 7,5%"
   ]
  },
  {
   "cell_type": "markdown",
   "id": "b809bdd1-05d6-40d8-a318-b05fe3d209cb",
   "metadata": {},
   "source": [
    "## Зависимость между возрастом и возвратом кредита в срок"
   ]
  },
  {
   "cell_type": "code",
   "execution_count": 60,
   "id": "68fedca7-3d66-43ba-b63c-439790fa4006",
   "metadata": {},
   "outputs": [
    {
     "data": {
      "text/html": [
       "<div>\n",
       "<style scoped>\n",
       "    .dataframe tbody tr th:only-of-type {\n",
       "        vertical-align: middle;\n",
       "    }\n",
       "\n",
       "    .dataframe tbody tr th {\n",
       "        vertical-align: top;\n",
       "    }\n",
       "\n",
       "    .dataframe thead th {\n",
       "        text-align: right;\n",
       "    }\n",
       "</style>\n",
       "<table border=\"1\" class=\"dataframe\">\n",
       "  <thead>\n",
       "    <tr style=\"text-align: right;\">\n",
       "      <th></th>\n",
       "      <th>mean</th>\n",
       "      <th>count</th>\n",
       "    </tr>\n",
       "    <tr>\n",
       "      <th>age_category</th>\n",
       "      <th></th>\n",
       "      <th></th>\n",
       "    </tr>\n",
       "  </thead>\n",
       "  <tbody>\n",
       "    <tr>\n",
       "      <th>более 65 лет</th>\n",
       "      <td>5.5</td>\n",
       "      <td>893</td>\n",
       "    </tr>\n",
       "    <tr>\n",
       "      <th>до 25 лет</th>\n",
       "      <td>10.1</td>\n",
       "      <td>869</td>\n",
       "    </tr>\n",
       "    <tr>\n",
       "      <th>от 25 до 35 лет</th>\n",
       "      <td>11.0</td>\n",
       "      <td>5059</td>\n",
       "    </tr>\n",
       "    <tr>\n",
       "      <th>от 35 до 45 лет</th>\n",
       "      <td>8.3</td>\n",
       "      <td>5702</td>\n",
       "    </tr>\n",
       "    <tr>\n",
       "      <th>от 45 до 55 лет</th>\n",
       "      <td>7.1</td>\n",
       "      <td>4839</td>\n",
       "    </tr>\n",
       "    <tr>\n",
       "      <th>от 55 до 65 лет</th>\n",
       "      <td>5.5</td>\n",
       "      <td>3864</td>\n",
       "    </tr>\n",
       "  </tbody>\n",
       "</table>\n",
       "</div>"
      ],
      "text/plain": [
       "                 mean  count\n",
       "age_category                \n",
       "более 65 лет      5.5    893\n",
       "до 25 лет        10.1    869\n",
       "от 25 до 35 лет  11.0   5059\n",
       "от 35 до 45 лет   8.3   5702\n",
       "от 45 до 55 лет   7.1   4839\n",
       "от 55 до 65 лет   5.5   3864"
      ]
     },
     "execution_count": 60,
     "metadata": {},
     "output_type": "execute_result"
    }
   ],
   "source": [
    "# считаем среднее значение доли задолженности по возврату кредитов в каждой группе по количеству детей в семье\n",
    "data_bebt_age = data_category.groupby('age_category').agg({'debt':['mean', 'count']})\n",
    "data_bebt_age = data_bebt_age.xs('debt', axis=1, level=0)\n",
    "data_bebt_age['mean'] = (data_bebt_age['mean'] * 100).round(1)\n",
    "data_bebt_age"
   ]
  },
  {
   "cell_type": "code",
   "execution_count": 61,
   "id": "64affe62-9c7b-4e38-99d8-dab6528b9e23",
   "metadata": {},
   "outputs": [
    {
     "data": {
      "image/png": "[encoded data removed]",
      "text/plain": [
       "<Figure size 720x288 with 1 Axes>"
      ]
     },
     "metadata": {
      "needs_background": "light"
     },
     "output_type": "display_data"
    }
   ],
   "source": [
    "plt.figure(figsize=(10,4))\n",
    "plt.barh(data_bebt_age.index, data_bebt_age['mean'])\n",
    "plt.suptitle(\"Процент задолженностей по кредитам в зависимости от возраста\");"
   ]
  },
  {
   "cell_type": "markdown",
   "id": "a13c0f21-9018-465e-8caf-d51202d46934",
   "metadata": {},
   "source": [
    "### Вывод\n",
    "\n",
    "Как видим, существует достаточно четкая связь между возрастом и возвращаемостью кредитов. Наилучшая возвращаемость у клиентов старше 55 лет. Больше всего невозвратов у клиентов моложе 35 лет."
   ]
  },
  {
   "cell_type": "markdown",
   "id": "67f1a5b5-6789-401c-915f-e2d9f8f60ea5",
   "metadata": {},
   "source": [
    "## Зависимость между целью кредита и его возвратом в срок"
   ]
  },
  {
   "cell_type": "code",
   "execution_count": 67,
   "id": "4ea72336-b891-4310-b8e4-68d9e3230403",
   "metadata": {},
   "outputs": [
    {
     "data": {
      "text/html": [
       "<div>\n",
       "<style scoped>\n",
       "    .dataframe tbody tr th:only-of-type {\n",
       "        vertical-align: middle;\n",
       "    }\n",
       "\n",
       "    .dataframe tbody tr th {\n",
       "        vertical-align: top;\n",
       "    }\n",
       "\n",
       "    .dataframe thead th {\n",
       "        text-align: right;\n",
       "    }\n",
       "</style>\n",
       "<table border=\"1\" class=\"dataframe\">\n",
       "  <thead>\n",
       "    <tr style=\"text-align: right;\">\n",
       "      <th></th>\n",
       "      <th>mean</th>\n",
       "      <th>count</th>\n",
       "    </tr>\n",
       "    <tr>\n",
       "      <th>purpose_category</th>\n",
       "      <th></th>\n",
       "      <th></th>\n",
       "    </tr>\n",
       "  </thead>\n",
       "  <tbody>\n",
       "    <tr>\n",
       "      <th>операции с автомобилем</th>\n",
       "      <td>9.3</td>\n",
       "      <td>4257</td>\n",
       "    </tr>\n",
       "    <tr>\n",
       "      <th>операции с недвижимостью</th>\n",
       "      <td>7.3</td>\n",
       "      <td>10700</td>\n",
       "    </tr>\n",
       "    <tr>\n",
       "      <th>получение образования</th>\n",
       "      <td>9.3</td>\n",
       "      <td>3970</td>\n",
       "    </tr>\n",
       "    <tr>\n",
       "      <th>проведение свадьбы</th>\n",
       "      <td>7.9</td>\n",
       "      <td>2299</td>\n",
       "    </tr>\n",
       "  </tbody>\n",
       "</table>\n",
       "</div>"
      ],
      "text/plain": [
       "                          mean  count\n",
       "purpose_category                     \n",
       "операции с автомобилем     9.3   4257\n",
       "операции с недвижимостью   7.3  10700\n",
       "получение образования      9.3   3970\n",
       "проведение свадьбы         7.9   2299"
      ]
     },
     "execution_count": 67,
     "metadata": {},
     "output_type": "execute_result"
    }
   ],
   "source": [
    "# считаем среднее значение доли задолженности по возврату кредитов от цели кредита\n",
    "data_bebt_purpose_category = data_category.groupby('purpose_category').agg({'debt':['mean', 'count']})\n",
    "data_bebt_purpose_category = data_bebt_purpose_category.xs('debt', axis=1, level=0)\n",
    "data_bebt_purpose_category['mean'] = (data_bebt_purpose_category['mean'] * 100).round(1) # средний процент просрочек\n",
    "data_bebt_purpose_category"
   ]
  },
  {
   "cell_type": "code",
   "execution_count": 68,
   "id": "12aa1d77-4c7e-4107-a9b4-9597f09e4d2f",
   "metadata": {},
   "outputs": [
    {
     "data": {
      "image/png": "[encoded data removed]",
      "text/plain": [
       "<Figure size 720x288 with 1 Axes>"
      ]
     },
     "metadata": {
      "needs_background": "light"
     },
     "output_type": "display_data"
    }
   ],
   "source": [
    "plt.figure(figsize=(10,4))\n",
    "plt.barh(data_bebt_purpose_category.index, data_bebt_purpose_category['mean'])\n",
    "plt.suptitle(\"Процент задолженностей по кредитам в зависимости от возраста\");"
   ]
  },
  {
   "cell_type": "markdown",
   "id": "27adeda9-250b-4798-9652-25ed0459bc82",
   "metadata": {},
   "source": [
    "### Вывод\n",
    "\n",
    "Наибольший процент невозвратов в срок у кредитов взятых для целей \"образование\" и \"автомобиль\" - по 9,3% , наименьший процент невозвратов у кредитов, взятых под цели \"недвижимость\" - 7,3%. Возможно это связано с тем, что для приобретения недвижимости берутся существенно большие суммы по сравнению с другими и, соответственно, клиенты подвергаются более жесткой проверке на предмет кредитоспособности."
   ]
  },
  {
   "cell_type": "markdown",
   "id": "f4ff2459-afb8-41b2-b04b-fe9b5164c141",
   "metadata": {},
   "source": [
    "## Зависимость между уровнем дохода и возвратом кредита в срок"
   ]
  },
  {
   "cell_type": "code",
   "execution_count": 69,
   "id": "069b5d57-4361-415c-92bb-e23bed1f5b57",
   "metadata": {},
   "outputs": [
    {
     "data": {
      "text/html": [
       "<div>\n",
       "<style scoped>\n",
       "    .dataframe tbody tr th:only-of-type {\n",
       "        vertical-align: middle;\n",
       "    }\n",
       "\n",
       "    .dataframe tbody tr th {\n",
       "        vertical-align: top;\n",
       "    }\n",
       "\n",
       "    .dataframe thead th {\n",
       "        text-align: right;\n",
       "    }\n",
       "</style>\n",
       "<table border=\"1\" class=\"dataframe\">\n",
       "  <thead>\n",
       "    <tr style=\"text-align: right;\">\n",
       "      <th></th>\n",
       "      <th>mean</th>\n",
       "      <th>count</th>\n",
       "    </tr>\n",
       "    <tr>\n",
       "      <th>total_income_category</th>\n",
       "      <th></th>\n",
       "      <th></th>\n",
       "    </tr>\n",
       "  </thead>\n",
       "  <tbody>\n",
       "    <tr>\n",
       "      <th>A</th>\n",
       "      <td>8.0</td>\n",
       "      <td>25</td>\n",
       "    </tr>\n",
       "    <tr>\n",
       "      <th>B</th>\n",
       "      <td>7.1</td>\n",
       "      <td>4986</td>\n",
       "    </tr>\n",
       "    <tr>\n",
       "      <th>C</th>\n",
       "      <td>8.5</td>\n",
       "      <td>15846</td>\n",
       "    </tr>\n",
       "    <tr>\n",
       "      <th>D</th>\n",
       "      <td>6.1</td>\n",
       "      <td>347</td>\n",
       "    </tr>\n",
       "    <tr>\n",
       "      <th>E</th>\n",
       "      <td>9.1</td>\n",
       "      <td>22</td>\n",
       "    </tr>\n",
       "  </tbody>\n",
       "</table>\n",
       "</div>"
      ],
      "text/plain": [
       "                       mean  count\n",
       "total_income_category             \n",
       "A                       8.0     25\n",
       "B                       7.1   4986\n",
       "C                       8.5  15846\n",
       "D                       6.1    347\n",
       "E                       9.1     22"
      ]
     },
     "execution_count": 69,
     "metadata": {},
     "output_type": "execute_result"
    }
   ],
   "source": [
    "# считаем среднее значение доли задолженности по возврату кредитов от дохода\n",
    "data_total_income_category = data_category.groupby('total_income_category').agg({'debt':['mean', 'count']})\n",
    "data_total_income_category = data_total_income_category.xs('debt', axis=1, level=0)\n",
    "data_total_income_category['mean'] = (data_total_income_category['mean'] * 100).round(1)\n",
    "data_total_income_category"
   ]
  },
  {
   "cell_type": "code",
   "execution_count": 70,
   "id": "9436b6c9-f414-4be1-9aa3-661e10f5f79e",
   "metadata": {
    "tags": []
   },
   "outputs": [
    {
     "data": {
      "image/png": "[encoded data removed]",
      "text/plain": [
       "<Figure size 720x288 with 1 Axes>"
      ]
     },
     "metadata": {
      "needs_background": "light"
     },
     "output_type": "display_data"
    }
   ],
   "source": [
    "plt.figure(figsize=(10,4))\n",
    "plt.barh(data_total_income_category.index, data_total_income_category['mean'])\n",
    "plt.suptitle(\"Процент задолженностей по кредитам в зависимости от категории доходов\");"
   ]
  },
  {
   "cell_type": "markdown",
   "id": "73d3cd11-d2f7-4245-a2a4-f3af9108c725",
   "metadata": {},
   "source": [
    "### Вывод"
   ]
  },
  {
   "cell_type": "markdown",
   "id": "2be6a18a-095c-452d-99ee-a1f2a1acd58e",
   "metadata": {},
   "source": [
    "Из распределения видно, что в выборке сравнительно лиц с доходами A (выше 1 млн р.) и E (менее 30 тыс. р.). Их количество может оказаться недостаточным для формулировки выводов.  \n",
    "Наибольший риск в массовых группах - C (от 50 до 200 тыс. р.) "
   ]
  },
  {
   "cell_type": "markdown",
   "id": "8c891972-a5a1-4119-ae8c-27368de34575",
   "metadata": {},
   "source": [
    "# Анализ групп"
   ]
  },
  {
   "cell_type": "code",
   "execution_count": 89,
   "id": "e370c7a0-62b9-4d5c-9540-3f060752cb09",
   "metadata": {},
   "outputs": [
    {
     "name": "stdout",
     "output_type": "stream",
     "text": [
      "Средний процент просрочек по выборке 8.1%\n"
     ]
    }
   ],
   "source": [
    "# Доля задержек по всей выборке\n",
    "print(f'Средний процент просрочек по выборке {data.debt.mean():.1%}')"
   ]
  },
  {
   "cell_type": "markdown",
   "id": "8ac18aac-b93b-45ec-a8b7-987aa6b46edf",
   "metadata": {},
   "source": [
    "Наиболее надежными заемщиками являются:\n",
    "- группе по количеству детей в семье: не имеющие детей\n",
    "- по возрасту старше 55 лет\n",
    "- по категории семейного положения: вдовец / вдова\n",
    "- по категории дохода:от 30001 до 50000 и от 200001 до 1000000 руб.\n",
    "- категории цель кредите: операции с недвижимостью и проведение свадьбы"
   ]
  },
  {
   "cell_type": "code",
   "execution_count": 90,
   "id": "a2498871-4e82-4386-a2c7-e0c138a44242",
   "metadata": {},
   "outputs": [],
   "source": [
    "#Сделаем фильтрацию надежных заемщиков\n",
    "data_profit = data[(data['children'] == 0) & \n",
    "              (data['family_status'] == 'вдовец / вдова') & \n",
    "              ((data['total_income_category'] == 'B') | (data['total_income_category'] == 'D')) & \n",
    "              ((data['purpose_category'] == 'операции с недвижимостью') | (data['purpose_category'] == 'проведение свадьбы'))]"
   ]
  },
  {
   "cell_type": "code",
   "execution_count": 91,
   "id": "e73ecf63-8537-4fb2-a97d-257b843669c8",
   "metadata": {},
   "outputs": [
    {
     "data": {
      "text/plain": [
       "88"
      ]
     },
     "execution_count": 91,
     "metadata": {},
     "output_type": "execute_result"
    }
   ],
   "source": [
    "# Количество таких заемщиков\n",
    "data_profit.shape[0]"
   ]
  },
  {
   "cell_type": "code",
   "execution_count": 92,
   "id": "50cc090a-2a74-4ea7-b076-dda59fbf3bc1",
   "metadata": {},
   "outputs": [
    {
     "name": "stdout",
     "output_type": "stream",
     "text": [
      "Процент просрочек в надежной группе заемщиков 3.4%\n"
     ]
    }
   ],
   "source": [
    "# Доля задержек в надежных заемщиков\n",
    "print(f'Процент просрочек в надежной группе заемщиков {data_profit.debt.mean():.1%}')"
   ]
  },
  {
   "cell_type": "markdown",
   "id": "fa059246-bdf9-45f1-b1ed-48a179267753",
   "metadata": {},
   "source": [
    "Наиболее рискованными заемщиками являются:\n",
    "\n",
    "- группе по количеству детей в семье: 1 или 2 ребенка\n",
    "- по категории семейного положения: не женат/не замужем и гражданский брак\n",
    "- по категории дохода:от 50001 до 200000 руб.\n",
    "- категории цель кредите: получение образования и операции с автомобилем"
   ]
  },
  {
   "cell_type": "code",
   "execution_count": 93,
   "id": "0668fc52-9453-4978-bdda-fb06a9c93947",
   "metadata": {},
   "outputs": [],
   "source": [
    "#Сделаем фильтрацию рискованных заемщиков\n",
    "data_risk = data[((data['children'] == 1) | (data['children'] == 2)) & \n",
    "                 ((data['family_status'] == 'Не женат / не замужем') | (data['family_status'] == 'гражданский брак')) & \n",
    "                  (data['total_income_category'] == 'C') & \n",
    "                  ((data['purpose_category'] == 'получение образования') | (data['purpose_category'] == 'операции с автомобилем'))]"
   ]
  },
  {
   "cell_type": "code",
   "execution_count": 94,
   "id": "2422f41a-c169-4a31-862c-60a51a1dbc17",
   "metadata": {},
   "outputs": [
    {
     "data": {
      "text/plain": [
       "203"
      ]
     },
     "execution_count": 94,
     "metadata": {},
     "output_type": "execute_result"
    }
   ],
   "source": [
    "# Количество таких заемщиков\n",
    "data_risk.shape[0]"
   ]
  },
  {
   "cell_type": "code",
   "execution_count": 95,
   "id": "b8fd483b-fae3-44d7-97bc-b9e32ee9c70a",
   "metadata": {},
   "outputs": [
    {
     "name": "stdout",
     "output_type": "stream",
     "text": [
      "Процент просрочек в рискованной группе заемщиков 18.2%\n"
     ]
    }
   ],
   "source": [
    "# Доля задержек в данной группе\n",
    "print(f'Процент просрочек в рискованной группе заемщиков {data_risk.debt.mean():.1%}')"
   ]
  },
  {
   "cell_type": "markdown",
   "id": "918023ba-d51a-4749-96ca-2d2cb3c37d2d",
   "metadata": {},
   "source": [
    "Средняя процент задержек по всем выданным кредитам 8,1%\n",
    "\n",
    "В выявленной группе надежных заемщиков 3,4%\n",
    "\n",
    "В выявленной группе рискованных заемщиков 18,2%\n",
    "\n",
    "В группах выявлено заметное отличие. Результаты исследования можно использовать при оценках выдачи кредитов."
   ]
  },
  {
   "cell_type": "markdown",
   "id": "6adab2d7-5533-42ac-89ce-e61d8f4f50fd",
   "metadata": {},
   "source": [
    "# Общий вывод"
   ]
  },
  {
   "cell_type": "markdown",
   "id": "52e753a3-ddb1-42ea-95d5-61ccc3d1b51b",
   "metadata": {},
   "source": [
    "В работе проанализирован набор данных по заемщикам (21525 записей).\n",
    "\n",
    "<b><big>Проведена предобработка данных </big></b>\n",
    "\n",
    "<b><i>Удаление пропусков</i></b>\n",
    "\n",
    "пропущенные значения ежемесячного дохода заменены медианной величиной. Всего было заполнено 2174 пропусков.\n",
    "\n",
    "<b><i>Обработка аномальных значений</i></b>\n",
    "\n",
    "отрицательные значения величины трудовой стажа, преобразованы в положительные. После чего пропущенные значения трудового стада заполнены медианным значением.\n",
    "\n",
    "Удалены 123 записи с аномальными значенияки количества детей в семье.\n",
    "\n",
    "<b><i>Обработка дубликатов</i></b>\n",
    "\n",
    "Найдены и убраны 71 дублирующиеся записи.\n",
    "\n",
    "<b><i>Категоризация данных</i></b>\n",
    "\n",
    "Для упрощения анализа данных ежемесячные доходы группированы по 5 категориям.  \n",
    "\n",
    "- A - 1000001 и выше\n",
    "- B - от 200001 до 1000000\n",
    "- C - от 50001 до 200000\n",
    "- D - от 30001 до 50000\n",
    "- E - до 30000 руб.\n",
    "\n",
    "Имеющихся 38 целей получения кредитов приведены к 4 категориям:\n",
    "\n",
    "- операции с автомобилем,\n",
    "- операции с недвижимостью,\n",
    "- проведение свадьбы,\n",
    "- получение образования\n",
    "\n",
    "<b><big>Выводы</big></b>\n",
    "\n",
    "<b>В среднем процент задержек по всем выданным кредитам 8,1%</b>\n",
    "\n",
    "\n",
    "<b>Выявлена группа надежных заемщиков с задержкой оплат 3,4%</b>\n",
    "\n",
    "Наиболее надежными заемщиками являются:\n",
    "- семьи не имеющие детей\n",
    "- старше 55 лет\n",
    "- вдовец / вдова\n",
    "- по категории дохода:от 30001 до 50000 и от 200001 до 1000000 руб.\n",
    "- категории цель кредите: операции с недвижимостью и проведение свадьбы\n",
    "\n",
    "\n",
    "<b>Выявлена группа рискованных заемщиков 18,2%</b>\n",
    "\n",
    "Наиболее рискованными заемщиками являются:\n",
    "\n",
    "- семьи с детьми\n",
    "- не состоявшие в браке либо ливущие в гражданском браке\n",
    "- с ежемесячным доходом от 50001 до 200000 руб.\n",
    "- при получении кредитов на образования или приобретении автомобиля\n",
    "\n",
    "<b><big>Рекомендации </big></b>\n",
    "\n",
    "Признак: трудовой стажем полностью удален из анализа вследствие наличия пропусков, разнотипных ошибок и практически полной непригодности для обработки (аномально высокие значения трудового стажа). Рекомендуется проработать данные по трудовому стажу, так как трудовой стаж тоже может влиять на долю просрочек по платежам.\n",
    "\n",
    "Использовать характеристики выявленные в группах надежных и рискованных заемщиков для дифференцации условий выдачи кредита."
   ]
  }
 ],
 "metadata": {
  "kernelspec": {
   "display_name": "Python 3 (ipykernel)",
   "language": "python",
   "name": "python3"
  },
  "language_info": {
   "codemirror_mode": {
    "name": "ipython",
    "version": 3
   },
   "file_extension": ".py",
   "mimetype": "text/x-python",
   "name": "python",
   "nbconvert_exporter": "python",
   "pygments_lexer": "ipython3",
   "version": "3.9.7"
  }
 },
 "nbformat": 4,
 "nbformat_minor": 5
}
